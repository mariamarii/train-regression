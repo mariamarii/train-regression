{
 "cells": [
  {
   "cell_type": "code",
   "execution_count": 438,
   "id": "72e20b98",
   "metadata": {
    "execution": {
     "iopub.execute_input": "2024-12-22T23:15:35.238610Z",
     "iopub.status.busy": "2024-12-22T23:15:35.238258Z",
     "iopub.status.idle": "2024-12-22T23:15:35.243916Z",
     "shell.execute_reply": "2024-12-22T23:15:35.242553Z",
     "shell.execute_reply.started": "2024-12-22T23:15:35.238577Z"
    }
   },
   "outputs": [],
   "source": [
    "import numpy as np\n",
    "import pandas as pd\n",
    "import matplotlib.pyplot as plt\n",
    "import seaborn as sns\n",
    "import missingno\n",
    "\n",
    "from sklearn.preprocessing import LabelEncoder, OrdinalEncoder, OneHotEncoder\n",
    "from sklearn.impute import SimpleImputer\n",
    "from sklearn.model_selection import train_test_split\n",
    "\n",
    "## scaling\n",
    "from sklearn.preprocessing import RobustScaler, MinMaxScaler, StandardScaler\n",
    "## pipeline\n",
    "from sklearn.pipeline import Pipeline, FeatureUnion\n",
    "\n"
   ]
  },
  {
   "cell_type": "code",
   "execution_count": 439,
   "id": "560d34f3",
   "metadata": {
    "execution": {
     "iopub.execute_input": "2024-12-22T23:15:35.246107Z",
     "iopub.status.busy": "2024-12-22T23:15:35.245728Z",
     "iopub.status.idle": "2024-12-22T23:15:36.758704Z",
     "shell.execute_reply": "2024-12-22T23:15:36.757895Z",
     "shell.execute_reply.started": "2024-12-22T23:15:35.246067Z"
    }
   },
   "outputs": [],
   "source": [
    "df = pd.read_excel('D:/train-regression/Data_Train.xlsx')"
   ]
  },
  {
   "cell_type": "code",
   "execution_count": 440,
   "id": "ff9717b3",
   "metadata": {
    "execution": {
     "iopub.execute_input": "2024-12-22T23:15:36.760596Z",
     "iopub.status.busy": "2024-12-22T23:15:36.760254Z",
     "iopub.status.idle": "2024-12-22T23:15:36.773324Z",
     "shell.execute_reply": "2024-12-22T23:15:36.772476Z",
     "shell.execute_reply.started": "2024-12-22T23:15:36.760570Z"
    }
   },
   "outputs": [
    {
     "data": {
      "text/html": [
       "<div>\n",
       "<style scoped>\n",
       "    .dataframe tbody tr th:only-of-type {\n",
       "        vertical-align: middle;\n",
       "    }\n",
       "\n",
       "    .dataframe tbody tr th {\n",
       "        vertical-align: top;\n",
       "    }\n",
       "\n",
       "    .dataframe thead th {\n",
       "        text-align: right;\n",
       "    }\n",
       "</style>\n",
       "<table border=\"1\" class=\"dataframe\">\n",
       "  <thead>\n",
       "    <tr style=\"text-align: right;\">\n",
       "      <th></th>\n",
       "      <th>Airline</th>\n",
       "      <th>Date_of_Journey</th>\n",
       "      <th>Source</th>\n",
       "      <th>Destination</th>\n",
       "      <th>Route</th>\n",
       "      <th>Dep_Time</th>\n",
       "      <th>Arrival_Time</th>\n",
       "      <th>Duration</th>\n",
       "      <th>Total_Stops</th>\n",
       "      <th>Additional_Info</th>\n",
       "      <th>Price</th>\n",
       "    </tr>\n",
       "  </thead>\n",
       "  <tbody>\n",
       "    <tr>\n",
       "      <th>0</th>\n",
       "      <td>IndiGo</td>\n",
       "      <td>24/03/2019</td>\n",
       "      <td>Banglore</td>\n",
       "      <td>New Delhi</td>\n",
       "      <td>BLR → DEL</td>\n",
       "      <td>22:20</td>\n",
       "      <td>01:10 22 Mar</td>\n",
       "      <td>2h 50m</td>\n",
       "      <td>non-stop</td>\n",
       "      <td>No info</td>\n",
       "      <td>3897</td>\n",
       "    </tr>\n",
       "    <tr>\n",
       "      <th>1</th>\n",
       "      <td>Air India</td>\n",
       "      <td>1/05/2019</td>\n",
       "      <td>Kolkata</td>\n",
       "      <td>Banglore</td>\n",
       "      <td>CCU → IXR → BBI → BLR</td>\n",
       "      <td>05:50</td>\n",
       "      <td>13:15</td>\n",
       "      <td>7h 25m</td>\n",
       "      <td>2 stops</td>\n",
       "      <td>No info</td>\n",
       "      <td>7662</td>\n",
       "    </tr>\n",
       "    <tr>\n",
       "      <th>2</th>\n",
       "      <td>Jet Airways</td>\n",
       "      <td>9/06/2019</td>\n",
       "      <td>Delhi</td>\n",
       "      <td>Cochin</td>\n",
       "      <td>DEL → LKO → BOM → COK</td>\n",
       "      <td>09:25</td>\n",
       "      <td>04:25 10 Jun</td>\n",
       "      <td>19h</td>\n",
       "      <td>2 stops</td>\n",
       "      <td>No info</td>\n",
       "      <td>13882</td>\n",
       "    </tr>\n",
       "    <tr>\n",
       "      <th>3</th>\n",
       "      <td>IndiGo</td>\n",
       "      <td>12/05/2019</td>\n",
       "      <td>Kolkata</td>\n",
       "      <td>Banglore</td>\n",
       "      <td>CCU → NAG → BLR</td>\n",
       "      <td>18:05</td>\n",
       "      <td>23:30</td>\n",
       "      <td>5h 25m</td>\n",
       "      <td>1 stop</td>\n",
       "      <td>No info</td>\n",
       "      <td>6218</td>\n",
       "    </tr>\n",
       "    <tr>\n",
       "      <th>4</th>\n",
       "      <td>IndiGo</td>\n",
       "      <td>01/03/2019</td>\n",
       "      <td>Banglore</td>\n",
       "      <td>New Delhi</td>\n",
       "      <td>BLR → NAG → DEL</td>\n",
       "      <td>16:50</td>\n",
       "      <td>21:35</td>\n",
       "      <td>4h 45m</td>\n",
       "      <td>1 stop</td>\n",
       "      <td>No info</td>\n",
       "      <td>13302</td>\n",
       "    </tr>\n",
       "  </tbody>\n",
       "</table>\n",
       "</div>"
      ],
      "text/plain": [
       "       Airline Date_of_Journey    Source Destination                  Route  \\\n",
       "0       IndiGo      24/03/2019  Banglore   New Delhi              BLR → DEL   \n",
       "1    Air India       1/05/2019   Kolkata    Banglore  CCU → IXR → BBI → BLR   \n",
       "2  Jet Airways       9/06/2019     Delhi      Cochin  DEL → LKO → BOM → COK   \n",
       "3       IndiGo      12/05/2019   Kolkata    Banglore        CCU → NAG → BLR   \n",
       "4       IndiGo      01/03/2019  Banglore   New Delhi        BLR → NAG → DEL   \n",
       "\n",
       "  Dep_Time  Arrival_Time Duration Total_Stops Additional_Info  Price  \n",
       "0    22:20  01:10 22 Mar   2h 50m    non-stop         No info   3897  \n",
       "1    05:50         13:15   7h 25m     2 stops         No info   7662  \n",
       "2    09:25  04:25 10 Jun      19h     2 stops         No info  13882  \n",
       "3    18:05         23:30   5h 25m      1 stop         No info   6218  \n",
       "4    16:50         21:35   4h 45m      1 stop         No info  13302  "
      ]
     },
     "execution_count": 440,
     "metadata": {},
     "output_type": "execute_result"
    }
   ],
   "source": [
    "df.head()"
   ]
  },
  {
   "cell_type": "code",
   "execution_count": 441,
   "id": "8d9d3a17",
   "metadata": {
    "execution": {
     "iopub.execute_input": "2024-12-22T23:15:36.775333Z",
     "iopub.status.busy": "2024-12-22T23:15:36.774980Z",
     "iopub.status.idle": "2024-12-22T23:15:36.800054Z",
     "shell.execute_reply": "2024-12-22T23:15:36.799094Z",
     "shell.execute_reply.started": "2024-12-22T23:15:36.775306Z"
    }
   },
   "outputs": [
    {
     "name": "stdout",
     "output_type": "stream",
     "text": [
      "<class 'pandas.core.frame.DataFrame'>\n",
      "RangeIndex: 10683 entries, 0 to 10682\n",
      "Data columns (total 11 columns):\n",
      " #   Column           Non-Null Count  Dtype \n",
      "---  ------           --------------  ----- \n",
      " 0   Airline          10683 non-null  object\n",
      " 1   Date_of_Journey  10683 non-null  object\n",
      " 2   Source           10683 non-null  object\n",
      " 3   Destination      10683 non-null  object\n",
      " 4   Route            10682 non-null  object\n",
      " 5   Dep_Time         10683 non-null  object\n",
      " 6   Arrival_Time     10683 non-null  object\n",
      " 7   Duration         10683 non-null  object\n",
      " 8   Total_Stops      10682 non-null  object\n",
      " 9   Additional_Info  10683 non-null  object\n",
      " 10  Price            10683 non-null  int64 \n",
      "dtypes: int64(1), object(10)\n",
      "memory usage: 918.2+ KB\n"
     ]
    }
   ],
   "source": [
    "df.info()"
   ]
  },
  {
   "cell_type": "code",
   "execution_count": 442,
   "id": "d86bd405",
   "metadata": {
    "execution": {
     "iopub.execute_input": "2024-12-22T23:15:36.801630Z",
     "iopub.status.busy": "2024-12-22T23:15:36.801275Z",
     "iopub.status.idle": "2024-12-22T23:15:36.820023Z",
     "shell.execute_reply": "2024-12-22T23:15:36.819093Z",
     "shell.execute_reply.started": "2024-12-22T23:15:36.801593Z"
    }
   },
   "outputs": [
    {
     "data": {
      "text/html": [
       "<div>\n",
       "<style scoped>\n",
       "    .dataframe tbody tr th:only-of-type {\n",
       "        vertical-align: middle;\n",
       "    }\n",
       "\n",
       "    .dataframe tbody tr th {\n",
       "        vertical-align: top;\n",
       "    }\n",
       "\n",
       "    .dataframe thead th {\n",
       "        text-align: right;\n",
       "    }\n",
       "</style>\n",
       "<table border=\"1\" class=\"dataframe\">\n",
       "  <thead>\n",
       "    <tr style=\"text-align: right;\">\n",
       "      <th></th>\n",
       "      <th>Price</th>\n",
       "    </tr>\n",
       "  </thead>\n",
       "  <tbody>\n",
       "    <tr>\n",
       "      <th>count</th>\n",
       "      <td>10683.000000</td>\n",
       "    </tr>\n",
       "    <tr>\n",
       "      <th>mean</th>\n",
       "      <td>9087.064121</td>\n",
       "    </tr>\n",
       "    <tr>\n",
       "      <th>std</th>\n",
       "      <td>4611.359167</td>\n",
       "    </tr>\n",
       "    <tr>\n",
       "      <th>min</th>\n",
       "      <td>1759.000000</td>\n",
       "    </tr>\n",
       "    <tr>\n",
       "      <th>25%</th>\n",
       "      <td>5277.000000</td>\n",
       "    </tr>\n",
       "    <tr>\n",
       "      <th>50%</th>\n",
       "      <td>8372.000000</td>\n",
       "    </tr>\n",
       "    <tr>\n",
       "      <th>75%</th>\n",
       "      <td>12373.000000</td>\n",
       "    </tr>\n",
       "    <tr>\n",
       "      <th>max</th>\n",
       "      <td>79512.000000</td>\n",
       "    </tr>\n",
       "  </tbody>\n",
       "</table>\n",
       "</div>"
      ],
      "text/plain": [
       "              Price\n",
       "count  10683.000000\n",
       "mean    9087.064121\n",
       "std     4611.359167\n",
       "min     1759.000000\n",
       "25%     5277.000000\n",
       "50%     8372.000000\n",
       "75%    12373.000000\n",
       "max    79512.000000"
      ]
     },
     "execution_count": 442,
     "metadata": {},
     "output_type": "execute_result"
    }
   ],
   "source": [
    "df.describe()"
   ]
  },
  {
   "cell_type": "code",
   "execution_count": 443,
   "id": "5c033b56",
   "metadata": {
    "execution": {
     "iopub.execute_input": "2024-12-22T23:15:36.821333Z",
     "iopub.status.busy": "2024-12-22T23:15:36.821047Z",
     "iopub.status.idle": "2024-12-22T23:15:36.828986Z",
     "shell.execute_reply": "2024-12-22T23:15:36.827970Z",
     "shell.execute_reply.started": "2024-12-22T23:15:36.821311Z"
    }
   },
   "outputs": [],
   "source": [
    "df['Date_of_Journey'] = pd.to_datetime(df['Date_of_Journey'], format='%d/%m/%Y')"
   ]
  },
  {
   "cell_type": "code",
   "execution_count": 444,
   "id": "adb335a6-c064-4a00-af2e-633c2bfba035",
   "metadata": {
    "execution": {
     "iopub.execute_input": "2024-12-22T23:15:36.830262Z",
     "iopub.status.busy": "2024-12-22T23:15:36.829950Z",
     "iopub.status.idle": "2024-12-22T23:15:36.845406Z",
     "shell.execute_reply": "2024-12-22T23:15:36.844603Z",
     "shell.execute_reply.started": "2024-12-22T23:15:36.830228Z"
    }
   },
   "outputs": [],
   "source": [
    "df['Month']=df['Date_of_Journey'].dt.month"
   ]
  },
  {
   "cell_type": "code",
   "execution_count": 445,
   "id": "26276fb2",
   "metadata": {
    "execution": {
     "iopub.execute_input": "2024-12-22T23:15:36.846960Z",
     "iopub.status.busy": "2024-12-22T23:15:36.846544Z",
     "iopub.status.idle": "2024-12-22T23:15:36.873623Z",
     "shell.execute_reply": "2024-12-22T23:15:36.872776Z",
     "shell.execute_reply.started": "2024-12-22T23:15:36.846933Z"
    }
   },
   "outputs": [
    {
     "name": "stdout",
     "output_type": "stream",
     "text": [
      "<class 'pandas.core.frame.DataFrame'>\n",
      "RangeIndex: 10683 entries, 0 to 10682\n",
      "Data columns (total 12 columns):\n",
      " #   Column           Non-Null Count  Dtype         \n",
      "---  ------           --------------  -----         \n",
      " 0   Airline          10683 non-null  object        \n",
      " 1   Date_of_Journey  10683 non-null  datetime64[ns]\n",
      " 2   Source           10683 non-null  object        \n",
      " 3   Destination      10683 non-null  object        \n",
      " 4   Route            10682 non-null  object        \n",
      " 5   Dep_Time         10683 non-null  object        \n",
      " 6   Arrival_Time     10683 non-null  object        \n",
      " 7   Duration         10683 non-null  object        \n",
      " 8   Total_Stops      10682 non-null  object        \n",
      " 9   Additional_Info  10683 non-null  object        \n",
      " 10  Price            10683 non-null  int64         \n",
      " 11  Month            10683 non-null  int32         \n",
      "dtypes: datetime64[ns](1), int32(1), int64(1), object(9)\n",
      "memory usage: 959.9+ KB\n"
     ]
    }
   ],
   "source": [
    "df.info()"
   ]
  },
  {
   "cell_type": "code",
   "execution_count": 446,
   "id": "29956095",
   "metadata": {
    "execution": {
     "iopub.execute_input": "2024-12-22T23:15:36.877043Z",
     "iopub.status.busy": "2024-12-22T23:15:36.876766Z",
     "iopub.status.idle": "2024-12-22T23:15:36.883505Z",
     "shell.execute_reply": "2024-12-22T23:15:36.882704Z",
     "shell.execute_reply.started": "2024-12-22T23:15:36.877018Z"
    }
   },
   "outputs": [
    {
     "data": {
      "text/plain": [
       "array(['No info', 'In-flight meal not included',\n",
       "       'No check-in baggage included', '1 Short layover', 'No Info',\n",
       "       '1 Long layover', 'Change airports', 'Business class',\n",
       "       'Red-eye flight', '2 Long layover'], dtype=object)"
      ]
     },
     "execution_count": 446,
     "metadata": {},
     "output_type": "execute_result"
    }
   ],
   "source": [
    "df['Additional_Info'].unique()"
   ]
  },
  {
   "cell_type": "code",
   "execution_count": 447,
   "id": "eba4874f",
   "metadata": {
    "execution": {
     "iopub.execute_input": "2024-12-22T23:15:36.885965Z",
     "iopub.status.busy": "2024-12-22T23:15:36.885653Z",
     "iopub.status.idle": "2024-12-22T23:15:36.901563Z",
     "shell.execute_reply": "2024-12-22T23:15:36.900620Z",
     "shell.execute_reply.started": "2024-12-22T23:15:36.885934Z"
    }
   },
   "outputs": [],
   "source": [
    "df['Additional_Info'].replace(to_replace='No Info',value='No info',inplace=True)"
   ]
  },
  {
   "cell_type": "code",
   "execution_count": 448,
   "id": "95f33f26",
   "metadata": {
    "execution": {
     "iopub.execute_input": "2024-12-22T23:15:36.903109Z",
     "iopub.status.busy": "2024-12-22T23:15:36.902706Z",
     "iopub.status.idle": "2024-12-22T23:15:36.921119Z",
     "shell.execute_reply": "2024-12-22T23:15:36.920144Z",
     "shell.execute_reply.started": "2024-12-22T23:15:36.903068Z"
    }
   },
   "outputs": [
    {
     "data": {
      "text/plain": [
       "array(['No info', 'In-flight meal not included',\n",
       "       'No check-in baggage included', '1 Short layover',\n",
       "       '1 Long layover', 'Change airports', 'Business class',\n",
       "       'Red-eye flight', '2 Long layover'], dtype=object)"
      ]
     },
     "execution_count": 448,
     "metadata": {},
     "output_type": "execute_result"
    }
   ],
   "source": [
    "df['Additional_Info'].unique()"
   ]
  },
  {
   "cell_type": "code",
   "execution_count": 449,
   "id": "6320eba0",
   "metadata": {
    "execution": {
     "iopub.execute_input": "2024-12-22T23:15:36.922271Z",
     "iopub.status.busy": "2024-12-22T23:15:36.922016Z",
     "iopub.status.idle": "2024-12-22T23:15:36.948762Z",
     "shell.execute_reply": "2024-12-22T23:15:36.947872Z",
     "shell.execute_reply.started": "2024-12-22T23:15:36.922242Z"
    }
   },
   "outputs": [
    {
     "data": {
      "text/html": [
       "<div>\n",
       "<style scoped>\n",
       "    .dataframe tbody tr th:only-of-type {\n",
       "        vertical-align: middle;\n",
       "    }\n",
       "\n",
       "    .dataframe tbody tr th {\n",
       "        vertical-align: top;\n",
       "    }\n",
       "\n",
       "    .dataframe thead th {\n",
       "        text-align: right;\n",
       "    }\n",
       "</style>\n",
       "<table border=\"1\" class=\"dataframe\">\n",
       "  <thead>\n",
       "    <tr style=\"text-align: right;\">\n",
       "      <th></th>\n",
       "      <th>Airline</th>\n",
       "      <th>Date_of_Journey</th>\n",
       "      <th>Source</th>\n",
       "      <th>Destination</th>\n",
       "      <th>Route</th>\n",
       "      <th>Dep_Time</th>\n",
       "      <th>Arrival_Time</th>\n",
       "      <th>Duration</th>\n",
       "      <th>Total_Stops</th>\n",
       "      <th>Additional_Info</th>\n",
       "      <th>Price</th>\n",
       "      <th>Month</th>\n",
       "    </tr>\n",
       "  </thead>\n",
       "  <tbody>\n",
       "    <tr>\n",
       "      <th>0</th>\n",
       "      <td>IndiGo</td>\n",
       "      <td>2019-03-24</td>\n",
       "      <td>Banglore</td>\n",
       "      <td>New Delhi</td>\n",
       "      <td>BLR → DEL</td>\n",
       "      <td>22:20</td>\n",
       "      <td>01:10 22 Mar</td>\n",
       "      <td>2h 50m</td>\n",
       "      <td>non-stop</td>\n",
       "      <td>No info</td>\n",
       "      <td>3897</td>\n",
       "      <td>3</td>\n",
       "    </tr>\n",
       "    <tr>\n",
       "      <th>1</th>\n",
       "      <td>Air India</td>\n",
       "      <td>2019-05-01</td>\n",
       "      <td>Kolkata</td>\n",
       "      <td>Banglore</td>\n",
       "      <td>CCU → IXR → BBI → BLR</td>\n",
       "      <td>05:50</td>\n",
       "      <td>13:15</td>\n",
       "      <td>7h 25m</td>\n",
       "      <td>2 stops</td>\n",
       "      <td>No info</td>\n",
       "      <td>7662</td>\n",
       "      <td>5</td>\n",
       "    </tr>\n",
       "    <tr>\n",
       "      <th>2</th>\n",
       "      <td>Jet Airways</td>\n",
       "      <td>2019-06-09</td>\n",
       "      <td>Delhi</td>\n",
       "      <td>Cochin</td>\n",
       "      <td>DEL → LKO → BOM → COK</td>\n",
       "      <td>09:25</td>\n",
       "      <td>04:25 10 Jun</td>\n",
       "      <td>19h</td>\n",
       "      <td>2 stops</td>\n",
       "      <td>No info</td>\n",
       "      <td>13882</td>\n",
       "      <td>6</td>\n",
       "    </tr>\n",
       "    <tr>\n",
       "      <th>3</th>\n",
       "      <td>IndiGo</td>\n",
       "      <td>2019-05-12</td>\n",
       "      <td>Kolkata</td>\n",
       "      <td>Banglore</td>\n",
       "      <td>CCU → NAG → BLR</td>\n",
       "      <td>18:05</td>\n",
       "      <td>23:30</td>\n",
       "      <td>5h 25m</td>\n",
       "      <td>1 stop</td>\n",
       "      <td>No info</td>\n",
       "      <td>6218</td>\n",
       "      <td>5</td>\n",
       "    </tr>\n",
       "    <tr>\n",
       "      <th>4</th>\n",
       "      <td>IndiGo</td>\n",
       "      <td>2019-03-01</td>\n",
       "      <td>Banglore</td>\n",
       "      <td>New Delhi</td>\n",
       "      <td>BLR → NAG → DEL</td>\n",
       "      <td>16:50</td>\n",
       "      <td>21:35</td>\n",
       "      <td>4h 45m</td>\n",
       "      <td>1 stop</td>\n",
       "      <td>No info</td>\n",
       "      <td>13302</td>\n",
       "      <td>3</td>\n",
       "    </tr>\n",
       "    <tr>\n",
       "      <th>...</th>\n",
       "      <td>...</td>\n",
       "      <td>...</td>\n",
       "      <td>...</td>\n",
       "      <td>...</td>\n",
       "      <td>...</td>\n",
       "      <td>...</td>\n",
       "      <td>...</td>\n",
       "      <td>...</td>\n",
       "      <td>...</td>\n",
       "      <td>...</td>\n",
       "      <td>...</td>\n",
       "      <td>...</td>\n",
       "    </tr>\n",
       "    <tr>\n",
       "      <th>10678</th>\n",
       "      <td>Air Asia</td>\n",
       "      <td>2019-04-09</td>\n",
       "      <td>Kolkata</td>\n",
       "      <td>Banglore</td>\n",
       "      <td>CCU → BLR</td>\n",
       "      <td>19:55</td>\n",
       "      <td>22:25</td>\n",
       "      <td>2h 30m</td>\n",
       "      <td>non-stop</td>\n",
       "      <td>No info</td>\n",
       "      <td>4107</td>\n",
       "      <td>4</td>\n",
       "    </tr>\n",
       "    <tr>\n",
       "      <th>10679</th>\n",
       "      <td>Air India</td>\n",
       "      <td>2019-04-27</td>\n",
       "      <td>Kolkata</td>\n",
       "      <td>Banglore</td>\n",
       "      <td>CCU → BLR</td>\n",
       "      <td>20:45</td>\n",
       "      <td>23:20</td>\n",
       "      <td>2h 35m</td>\n",
       "      <td>non-stop</td>\n",
       "      <td>No info</td>\n",
       "      <td>4145</td>\n",
       "      <td>4</td>\n",
       "    </tr>\n",
       "    <tr>\n",
       "      <th>10680</th>\n",
       "      <td>Jet Airways</td>\n",
       "      <td>2019-04-27</td>\n",
       "      <td>Banglore</td>\n",
       "      <td>Delhi</td>\n",
       "      <td>BLR → DEL</td>\n",
       "      <td>08:20</td>\n",
       "      <td>11:20</td>\n",
       "      <td>3h</td>\n",
       "      <td>non-stop</td>\n",
       "      <td>No info</td>\n",
       "      <td>7229</td>\n",
       "      <td>4</td>\n",
       "    </tr>\n",
       "    <tr>\n",
       "      <th>10681</th>\n",
       "      <td>Vistara</td>\n",
       "      <td>2019-03-01</td>\n",
       "      <td>Banglore</td>\n",
       "      <td>New Delhi</td>\n",
       "      <td>BLR → DEL</td>\n",
       "      <td>11:30</td>\n",
       "      <td>14:10</td>\n",
       "      <td>2h 40m</td>\n",
       "      <td>non-stop</td>\n",
       "      <td>No info</td>\n",
       "      <td>12648</td>\n",
       "      <td>3</td>\n",
       "    </tr>\n",
       "    <tr>\n",
       "      <th>10682</th>\n",
       "      <td>Air India</td>\n",
       "      <td>2019-05-09</td>\n",
       "      <td>Delhi</td>\n",
       "      <td>Cochin</td>\n",
       "      <td>DEL → GOI → BOM → COK</td>\n",
       "      <td>10:55</td>\n",
       "      <td>19:15</td>\n",
       "      <td>8h 20m</td>\n",
       "      <td>2 stops</td>\n",
       "      <td>No info</td>\n",
       "      <td>11753</td>\n",
       "      <td>5</td>\n",
       "    </tr>\n",
       "  </tbody>\n",
       "</table>\n",
       "<p>10683 rows × 12 columns</p>\n",
       "</div>"
      ],
      "text/plain": [
       "           Airline Date_of_Journey    Source Destination  \\\n",
       "0           IndiGo      2019-03-24  Banglore   New Delhi   \n",
       "1        Air India      2019-05-01   Kolkata    Banglore   \n",
       "2      Jet Airways      2019-06-09     Delhi      Cochin   \n",
       "3           IndiGo      2019-05-12   Kolkata    Banglore   \n",
       "4           IndiGo      2019-03-01  Banglore   New Delhi   \n",
       "...            ...             ...       ...         ...   \n",
       "10678     Air Asia      2019-04-09   Kolkata    Banglore   \n",
       "10679    Air India      2019-04-27   Kolkata    Banglore   \n",
       "10680  Jet Airways      2019-04-27  Banglore       Delhi   \n",
       "10681      Vistara      2019-03-01  Banglore   New Delhi   \n",
       "10682    Air India      2019-05-09     Delhi      Cochin   \n",
       "\n",
       "                       Route Dep_Time  Arrival_Time Duration Total_Stops  \\\n",
       "0                  BLR → DEL    22:20  01:10 22 Mar   2h 50m    non-stop   \n",
       "1      CCU → IXR → BBI → BLR    05:50         13:15   7h 25m     2 stops   \n",
       "2      DEL → LKO → BOM → COK    09:25  04:25 10 Jun      19h     2 stops   \n",
       "3            CCU → NAG → BLR    18:05         23:30   5h 25m      1 stop   \n",
       "4            BLR → NAG → DEL    16:50         21:35   4h 45m      1 stop   \n",
       "...                      ...      ...           ...      ...         ...   \n",
       "10678              CCU → BLR    19:55         22:25   2h 30m    non-stop   \n",
       "10679              CCU → BLR    20:45         23:20   2h 35m    non-stop   \n",
       "10680              BLR → DEL    08:20         11:20       3h    non-stop   \n",
       "10681              BLR → DEL    11:30         14:10   2h 40m    non-stop   \n",
       "10682  DEL → GOI → BOM → COK    10:55         19:15   8h 20m     2 stops   \n",
       "\n",
       "      Additional_Info  Price  Month  \n",
       "0             No info   3897      3  \n",
       "1             No info   7662      5  \n",
       "2             No info  13882      6  \n",
       "3             No info   6218      5  \n",
       "4             No info  13302      3  \n",
       "...               ...    ...    ...  \n",
       "10678         No info   4107      4  \n",
       "10679         No info   4145      4  \n",
       "10680         No info   7229      4  \n",
       "10681         No info  12648      3  \n",
       "10682         No info  11753      5  \n",
       "\n",
       "[10683 rows x 12 columns]"
      ]
     },
     "execution_count": 449,
     "metadata": {},
     "output_type": "execute_result"
    }
   ],
   "source": [
    "df"
   ]
  },
  {
   "cell_type": "code",
   "execution_count": null,
   "id": "438e4baa",
   "metadata": {},
   "outputs": [],
   "source": []
  },
  {
   "cell_type": "code",
   "execution_count": 450,
   "id": "6738854a",
   "metadata": {
    "execution": {
     "iopub.execute_input": "2024-12-22T23:15:36.950251Z",
     "iopub.status.busy": "2024-12-22T23:15:36.949943Z",
     "iopub.status.idle": "2024-12-22T23:15:37.142576Z",
     "shell.execute_reply": "2024-12-22T23:15:37.141573Z",
     "shell.execute_reply.started": "2024-12-22T23:15:36.950223Z"
    }
   },
   "outputs": [
    {
     "name": "stderr",
     "output_type": "stream",
     "text": [
      "C:\\Users\\ACTIVE\\AppData\\Local\\Temp\\ipykernel_8108\\1965123564.py:2: UserWarning: Could not infer format, so each element will be parsed individually, falling back to `dateutil`. To ensure parsing is consistent and as-expected, please specify a format.\n",
      "  df['Dep_Time'] = pd.to_datetime(df['Dep_Time']).dt.strftime('%H:%M')\n",
      "C:\\Users\\ACTIVE\\AppData\\Local\\Temp\\ipykernel_8108\\1965123564.py:3: UserWarning: Could not infer format, so each element will be parsed individually, falling back to `dateutil`. To ensure parsing is consistent and as-expected, please specify a format.\n",
      "  df['Arrival_Time'] = pd.to_datetime(df['Arrival_Time']).dt.strftime('%H:%M')\n"
     ]
    }
   ],
   "source": [
    "# Format Dep_Time and Arrival_Time to include only hour and minute\n",
    "df['Dep_Time'] = pd.to_datetime(df['Dep_Time']).dt.strftime('%H:%M')\n",
    "df['Arrival_Time'] = pd.to_datetime(df['Arrival_Time']).dt.strftime('%H:%M')\n",
    "df['Dep_Time'] = pd.to_datetime(df['Dep_Time'], format='%H:%M')  # Convert Dep_Time to datetime\n",
    "df['Arrival_Time'] = pd.to_datetime(df['Arrival_Time'], format='%H:%M')  # Convert Arrival_Time to datetime\n"
   ]
  },
  {
   "cell_type": "code",
   "execution_count": null,
   "id": "c7e32eb7",
   "metadata": {
    "execution": {
     "iopub.execute_input": "2024-12-22T23:15:37.143837Z",
     "iopub.status.busy": "2024-12-22T23:15:37.143509Z",
     "iopub.status.idle": "2024-12-22T23:15:37.467236Z",
     "shell.execute_reply": "2024-12-22T23:15:37.466139Z",
     "shell.execute_reply.started": "2024-12-22T23:15:37.143810Z"
    }
   },
   "outputs": [],
   "source": [
    "\n",
    "\n"
   ]
  },
  {
   "cell_type": "code",
   "execution_count": 451,
   "id": "07e6da19",
   "metadata": {
    "execution": {
     "iopub.execute_input": "2024-12-22T23:15:37.468712Z",
     "iopub.status.busy": "2024-12-22T23:15:37.468333Z",
     "iopub.status.idle": "2024-12-22T23:15:37.487924Z",
     "shell.execute_reply": "2024-12-22T23:15:37.486975Z",
     "shell.execute_reply.started": "2024-12-22T23:15:37.468644Z"
    }
   },
   "outputs": [
    {
     "data": {
      "text/html": [
       "<div>\n",
       "<style scoped>\n",
       "    .dataframe tbody tr th:only-of-type {\n",
       "        vertical-align: middle;\n",
       "    }\n",
       "\n",
       "    .dataframe tbody tr th {\n",
       "        vertical-align: top;\n",
       "    }\n",
       "\n",
       "    .dataframe thead th {\n",
       "        text-align: right;\n",
       "    }\n",
       "</style>\n",
       "<table border=\"1\" class=\"dataframe\">\n",
       "  <thead>\n",
       "    <tr style=\"text-align: right;\">\n",
       "      <th></th>\n",
       "      <th>Airline</th>\n",
       "      <th>Date_of_Journey</th>\n",
       "      <th>Source</th>\n",
       "      <th>Destination</th>\n",
       "      <th>Route</th>\n",
       "      <th>Dep_Time</th>\n",
       "      <th>Arrival_Time</th>\n",
       "      <th>Duration</th>\n",
       "      <th>Total_Stops</th>\n",
       "      <th>Additional_Info</th>\n",
       "      <th>Price</th>\n",
       "      <th>Month</th>\n",
       "    </tr>\n",
       "  </thead>\n",
       "  <tbody>\n",
       "    <tr>\n",
       "      <th>0</th>\n",
       "      <td>IndiGo</td>\n",
       "      <td>2019-03-24</td>\n",
       "      <td>Banglore</td>\n",
       "      <td>New Delhi</td>\n",
       "      <td>BLR → DEL</td>\n",
       "      <td>1900-01-01 22:20:00</td>\n",
       "      <td>1900-01-01 01:10:00</td>\n",
       "      <td>2h 50m</td>\n",
       "      <td>non-stop</td>\n",
       "      <td>No info</td>\n",
       "      <td>3897</td>\n",
       "      <td>3</td>\n",
       "    </tr>\n",
       "    <tr>\n",
       "      <th>1</th>\n",
       "      <td>Air India</td>\n",
       "      <td>2019-05-01</td>\n",
       "      <td>Kolkata</td>\n",
       "      <td>Banglore</td>\n",
       "      <td>CCU → IXR → BBI → BLR</td>\n",
       "      <td>1900-01-01 05:50:00</td>\n",
       "      <td>1900-01-01 13:15:00</td>\n",
       "      <td>7h 25m</td>\n",
       "      <td>2 stops</td>\n",
       "      <td>No info</td>\n",
       "      <td>7662</td>\n",
       "      <td>5</td>\n",
       "    </tr>\n",
       "    <tr>\n",
       "      <th>2</th>\n",
       "      <td>Jet Airways</td>\n",
       "      <td>2019-06-09</td>\n",
       "      <td>Delhi</td>\n",
       "      <td>Cochin</td>\n",
       "      <td>DEL → LKO → BOM → COK</td>\n",
       "      <td>1900-01-01 09:25:00</td>\n",
       "      <td>1900-01-01 04:25:00</td>\n",
       "      <td>19h</td>\n",
       "      <td>2 stops</td>\n",
       "      <td>No info</td>\n",
       "      <td>13882</td>\n",
       "      <td>6</td>\n",
       "    </tr>\n",
       "    <tr>\n",
       "      <th>3</th>\n",
       "      <td>IndiGo</td>\n",
       "      <td>2019-05-12</td>\n",
       "      <td>Kolkata</td>\n",
       "      <td>Banglore</td>\n",
       "      <td>CCU → NAG → BLR</td>\n",
       "      <td>1900-01-01 18:05:00</td>\n",
       "      <td>1900-01-01 23:30:00</td>\n",
       "      <td>5h 25m</td>\n",
       "      <td>1 stop</td>\n",
       "      <td>No info</td>\n",
       "      <td>6218</td>\n",
       "      <td>5</td>\n",
       "    </tr>\n",
       "    <tr>\n",
       "      <th>4</th>\n",
       "      <td>IndiGo</td>\n",
       "      <td>2019-03-01</td>\n",
       "      <td>Banglore</td>\n",
       "      <td>New Delhi</td>\n",
       "      <td>BLR → NAG → DEL</td>\n",
       "      <td>1900-01-01 16:50:00</td>\n",
       "      <td>1900-01-01 21:35:00</td>\n",
       "      <td>4h 45m</td>\n",
       "      <td>1 stop</td>\n",
       "      <td>No info</td>\n",
       "      <td>13302</td>\n",
       "      <td>3</td>\n",
       "    </tr>\n",
       "    <tr>\n",
       "      <th>...</th>\n",
       "      <td>...</td>\n",
       "      <td>...</td>\n",
       "      <td>...</td>\n",
       "      <td>...</td>\n",
       "      <td>...</td>\n",
       "      <td>...</td>\n",
       "      <td>...</td>\n",
       "      <td>...</td>\n",
       "      <td>...</td>\n",
       "      <td>...</td>\n",
       "      <td>...</td>\n",
       "      <td>...</td>\n",
       "    </tr>\n",
       "    <tr>\n",
       "      <th>10678</th>\n",
       "      <td>Air Asia</td>\n",
       "      <td>2019-04-09</td>\n",
       "      <td>Kolkata</td>\n",
       "      <td>Banglore</td>\n",
       "      <td>CCU → BLR</td>\n",
       "      <td>1900-01-01 19:55:00</td>\n",
       "      <td>1900-01-01 22:25:00</td>\n",
       "      <td>2h 30m</td>\n",
       "      <td>non-stop</td>\n",
       "      <td>No info</td>\n",
       "      <td>4107</td>\n",
       "      <td>4</td>\n",
       "    </tr>\n",
       "    <tr>\n",
       "      <th>10679</th>\n",
       "      <td>Air India</td>\n",
       "      <td>2019-04-27</td>\n",
       "      <td>Kolkata</td>\n",
       "      <td>Banglore</td>\n",
       "      <td>CCU → BLR</td>\n",
       "      <td>1900-01-01 20:45:00</td>\n",
       "      <td>1900-01-01 23:20:00</td>\n",
       "      <td>2h 35m</td>\n",
       "      <td>non-stop</td>\n",
       "      <td>No info</td>\n",
       "      <td>4145</td>\n",
       "      <td>4</td>\n",
       "    </tr>\n",
       "    <tr>\n",
       "      <th>10680</th>\n",
       "      <td>Jet Airways</td>\n",
       "      <td>2019-04-27</td>\n",
       "      <td>Banglore</td>\n",
       "      <td>Delhi</td>\n",
       "      <td>BLR → DEL</td>\n",
       "      <td>1900-01-01 08:20:00</td>\n",
       "      <td>1900-01-01 11:20:00</td>\n",
       "      <td>3h</td>\n",
       "      <td>non-stop</td>\n",
       "      <td>No info</td>\n",
       "      <td>7229</td>\n",
       "      <td>4</td>\n",
       "    </tr>\n",
       "    <tr>\n",
       "      <th>10681</th>\n",
       "      <td>Vistara</td>\n",
       "      <td>2019-03-01</td>\n",
       "      <td>Banglore</td>\n",
       "      <td>New Delhi</td>\n",
       "      <td>BLR → DEL</td>\n",
       "      <td>1900-01-01 11:30:00</td>\n",
       "      <td>1900-01-01 14:10:00</td>\n",
       "      <td>2h 40m</td>\n",
       "      <td>non-stop</td>\n",
       "      <td>No info</td>\n",
       "      <td>12648</td>\n",
       "      <td>3</td>\n",
       "    </tr>\n",
       "    <tr>\n",
       "      <th>10682</th>\n",
       "      <td>Air India</td>\n",
       "      <td>2019-05-09</td>\n",
       "      <td>Delhi</td>\n",
       "      <td>Cochin</td>\n",
       "      <td>DEL → GOI → BOM → COK</td>\n",
       "      <td>1900-01-01 10:55:00</td>\n",
       "      <td>1900-01-01 19:15:00</td>\n",
       "      <td>8h 20m</td>\n",
       "      <td>2 stops</td>\n",
       "      <td>No info</td>\n",
       "      <td>11753</td>\n",
       "      <td>5</td>\n",
       "    </tr>\n",
       "  </tbody>\n",
       "</table>\n",
       "<p>10683 rows × 12 columns</p>\n",
       "</div>"
      ],
      "text/plain": [
       "           Airline Date_of_Journey    Source Destination  \\\n",
       "0           IndiGo      2019-03-24  Banglore   New Delhi   \n",
       "1        Air India      2019-05-01   Kolkata    Banglore   \n",
       "2      Jet Airways      2019-06-09     Delhi      Cochin   \n",
       "3           IndiGo      2019-05-12   Kolkata    Banglore   \n",
       "4           IndiGo      2019-03-01  Banglore   New Delhi   \n",
       "...            ...             ...       ...         ...   \n",
       "10678     Air Asia      2019-04-09   Kolkata    Banglore   \n",
       "10679    Air India      2019-04-27   Kolkata    Banglore   \n",
       "10680  Jet Airways      2019-04-27  Banglore       Delhi   \n",
       "10681      Vistara      2019-03-01  Banglore   New Delhi   \n",
       "10682    Air India      2019-05-09     Delhi      Cochin   \n",
       "\n",
       "                       Route            Dep_Time        Arrival_Time Duration  \\\n",
       "0                  BLR → DEL 1900-01-01 22:20:00 1900-01-01 01:10:00   2h 50m   \n",
       "1      CCU → IXR → BBI → BLR 1900-01-01 05:50:00 1900-01-01 13:15:00   7h 25m   \n",
       "2      DEL → LKO → BOM → COK 1900-01-01 09:25:00 1900-01-01 04:25:00      19h   \n",
       "3            CCU → NAG → BLR 1900-01-01 18:05:00 1900-01-01 23:30:00   5h 25m   \n",
       "4            BLR → NAG → DEL 1900-01-01 16:50:00 1900-01-01 21:35:00   4h 45m   \n",
       "...                      ...                 ...                 ...      ...   \n",
       "10678              CCU → BLR 1900-01-01 19:55:00 1900-01-01 22:25:00   2h 30m   \n",
       "10679              CCU → BLR 1900-01-01 20:45:00 1900-01-01 23:20:00   2h 35m   \n",
       "10680              BLR → DEL 1900-01-01 08:20:00 1900-01-01 11:20:00       3h   \n",
       "10681              BLR → DEL 1900-01-01 11:30:00 1900-01-01 14:10:00   2h 40m   \n",
       "10682  DEL → GOI → BOM → COK 1900-01-01 10:55:00 1900-01-01 19:15:00   8h 20m   \n",
       "\n",
       "      Total_Stops Additional_Info  Price  Month  \n",
       "0        non-stop         No info   3897      3  \n",
       "1         2 stops         No info   7662      5  \n",
       "2         2 stops         No info  13882      6  \n",
       "3          1 stop         No info   6218      5  \n",
       "4          1 stop         No info  13302      3  \n",
       "...           ...             ...    ...    ...  \n",
       "10678    non-stop         No info   4107      4  \n",
       "10679    non-stop         No info   4145      4  \n",
       "10680    non-stop         No info   7229      4  \n",
       "10681    non-stop         No info  12648      3  \n",
       "10682     2 stops         No info  11753      5  \n",
       "\n",
       "[10683 rows x 12 columns]"
      ]
     },
     "execution_count": 451,
     "metadata": {},
     "output_type": "execute_result"
    }
   ],
   "source": [
    "df"
   ]
  },
  {
   "cell_type": "code",
   "execution_count": 452,
   "id": "4f9b18c2",
   "metadata": {
    "execution": {
     "iopub.execute_input": "2024-12-22T23:15:37.489492Z",
     "iopub.status.busy": "2024-12-22T23:15:37.489117Z",
     "iopub.status.idle": "2024-12-22T23:15:37.505641Z",
     "shell.execute_reply": "2024-12-22T23:15:37.504586Z",
     "shell.execute_reply.started": "2024-12-22T23:15:37.489447Z"
    }
   },
   "outputs": [
    {
     "name": "stdout",
     "output_type": "stream",
     "text": [
      "<class 'pandas.core.frame.DataFrame'>\n",
      "RangeIndex: 10683 entries, 0 to 10682\n",
      "Data columns (total 12 columns):\n",
      " #   Column           Non-Null Count  Dtype         \n",
      "---  ------           --------------  -----         \n",
      " 0   Airline          10683 non-null  object        \n",
      " 1   Date_of_Journey  10683 non-null  datetime64[ns]\n",
      " 2   Source           10683 non-null  object        \n",
      " 3   Destination      10683 non-null  object        \n",
      " 4   Route            10682 non-null  object        \n",
      " 5   Dep_Time         10683 non-null  datetime64[ns]\n",
      " 6   Arrival_Time     10683 non-null  datetime64[ns]\n",
      " 7   Duration         10683 non-null  object        \n",
      " 8   Total_Stops      10682 non-null  object        \n",
      " 9   Additional_Info  10683 non-null  object        \n",
      " 10  Price            10683 non-null  int64         \n",
      " 11  Month            10683 non-null  int32         \n",
      "dtypes: datetime64[ns](3), int32(1), int64(1), object(7)\n",
      "memory usage: 959.9+ KB\n"
     ]
    }
   ],
   "source": [
    "df.info()"
   ]
  },
  {
   "cell_type": "code",
   "execution_count": null,
   "id": "5151690a",
   "metadata": {
    "execution": {
     "iopub.execute_input": "2024-12-22T23:15:37.507106Z",
     "iopub.status.busy": "2024-12-22T23:15:37.506756Z",
     "iopub.status.idle": "2024-12-22T23:15:37.554943Z",
     "shell.execute_reply": "2024-12-22T23:15:37.554008Z",
     "shell.execute_reply.started": "2024-12-22T23:15:37.507080Z"
    }
   },
   "outputs": [],
   "source": [
    "\n",
    "\n"
   ]
  },
  {
   "cell_type": "code",
   "execution_count": 453,
   "id": "79f3ee9c",
   "metadata": {
    "execution": {
     "iopub.execute_input": "2024-12-22T23:15:37.556225Z",
     "iopub.status.busy": "2024-12-22T23:15:37.555876Z",
     "iopub.status.idle": "2024-12-22T23:15:37.572726Z",
     "shell.execute_reply": "2024-12-22T23:15:37.571632Z",
     "shell.execute_reply.started": "2024-12-22T23:15:37.556189Z"
    }
   },
   "outputs": [
    {
     "name": "stdout",
     "output_type": "stream",
     "text": [
      "<class 'pandas.core.frame.DataFrame'>\n",
      "RangeIndex: 10683 entries, 0 to 10682\n",
      "Data columns (total 12 columns):\n",
      " #   Column           Non-Null Count  Dtype         \n",
      "---  ------           --------------  -----         \n",
      " 0   Airline          10683 non-null  object        \n",
      " 1   Date_of_Journey  10683 non-null  datetime64[ns]\n",
      " 2   Source           10683 non-null  object        \n",
      " 3   Destination      10683 non-null  object        \n",
      " 4   Route            10682 non-null  object        \n",
      " 5   Dep_Time         10683 non-null  datetime64[ns]\n",
      " 6   Arrival_Time     10683 non-null  datetime64[ns]\n",
      " 7   Duration         10683 non-null  object        \n",
      " 8   Total_Stops      10682 non-null  object        \n",
      " 9   Additional_Info  10683 non-null  object        \n",
      " 10  Price            10683 non-null  int64         \n",
      " 11  Month            10683 non-null  int32         \n",
      "dtypes: datetime64[ns](3), int32(1), int64(1), object(7)\n",
      "memory usage: 959.9+ KB\n"
     ]
    }
   ],
   "source": [
    "df.info()"
   ]
  },
  {
   "cell_type": "code",
   "execution_count": 454,
   "id": "8f0dbf2d",
   "metadata": {
    "execution": {
     "iopub.execute_input": "2024-12-22T23:15:37.574405Z",
     "iopub.status.busy": "2024-12-22T23:15:37.574029Z",
     "iopub.status.idle": "2024-12-22T23:15:37.608925Z",
     "shell.execute_reply": "2024-12-22T23:15:37.607786Z",
     "shell.execute_reply.started": "2024-12-22T23:15:37.574368Z"
    }
   },
   "outputs": [
    {
     "data": {
      "text/html": [
       "<div>\n",
       "<style scoped>\n",
       "    .dataframe tbody tr th:only-of-type {\n",
       "        vertical-align: middle;\n",
       "    }\n",
       "\n",
       "    .dataframe tbody tr th {\n",
       "        vertical-align: top;\n",
       "    }\n",
       "\n",
       "    .dataframe thead th {\n",
       "        text-align: right;\n",
       "    }\n",
       "</style>\n",
       "<table border=\"1\" class=\"dataframe\">\n",
       "  <thead>\n",
       "    <tr style=\"text-align: right;\">\n",
       "      <th></th>\n",
       "      <th>Airline</th>\n",
       "      <th>Date_of_Journey</th>\n",
       "      <th>Source</th>\n",
       "      <th>Destination</th>\n",
       "      <th>Route</th>\n",
       "      <th>Dep_Time</th>\n",
       "      <th>Arrival_Time</th>\n",
       "      <th>Duration</th>\n",
       "      <th>Total_Stops</th>\n",
       "      <th>Additional_Info</th>\n",
       "      <th>Price</th>\n",
       "      <th>Month</th>\n",
       "    </tr>\n",
       "  </thead>\n",
       "  <tbody>\n",
       "    <tr>\n",
       "      <th>0</th>\n",
       "      <td>IndiGo</td>\n",
       "      <td>2019-03-24</td>\n",
       "      <td>Banglore</td>\n",
       "      <td>New Delhi</td>\n",
       "      <td>BLR → DEL</td>\n",
       "      <td>1900-01-01 22:20:00</td>\n",
       "      <td>1900-01-01 01:10:00</td>\n",
       "      <td>2h 50m</td>\n",
       "      <td>non-stop</td>\n",
       "      <td>No info</td>\n",
       "      <td>3897</td>\n",
       "      <td>3</td>\n",
       "    </tr>\n",
       "    <tr>\n",
       "      <th>1</th>\n",
       "      <td>Air India</td>\n",
       "      <td>2019-05-01</td>\n",
       "      <td>Kolkata</td>\n",
       "      <td>Banglore</td>\n",
       "      <td>CCU → IXR → BBI → BLR</td>\n",
       "      <td>1900-01-01 05:50:00</td>\n",
       "      <td>1900-01-01 13:15:00</td>\n",
       "      <td>7h 25m</td>\n",
       "      <td>2 stops</td>\n",
       "      <td>No info</td>\n",
       "      <td>7662</td>\n",
       "      <td>5</td>\n",
       "    </tr>\n",
       "    <tr>\n",
       "      <th>2</th>\n",
       "      <td>Jet Airways</td>\n",
       "      <td>2019-06-09</td>\n",
       "      <td>Delhi</td>\n",
       "      <td>Cochin</td>\n",
       "      <td>DEL → LKO → BOM → COK</td>\n",
       "      <td>1900-01-01 09:25:00</td>\n",
       "      <td>1900-01-01 04:25:00</td>\n",
       "      <td>19h</td>\n",
       "      <td>2 stops</td>\n",
       "      <td>No info</td>\n",
       "      <td>13882</td>\n",
       "      <td>6</td>\n",
       "    </tr>\n",
       "    <tr>\n",
       "      <th>3</th>\n",
       "      <td>IndiGo</td>\n",
       "      <td>2019-05-12</td>\n",
       "      <td>Kolkata</td>\n",
       "      <td>Banglore</td>\n",
       "      <td>CCU → NAG → BLR</td>\n",
       "      <td>1900-01-01 18:05:00</td>\n",
       "      <td>1900-01-01 23:30:00</td>\n",
       "      <td>5h 25m</td>\n",
       "      <td>1 stop</td>\n",
       "      <td>No info</td>\n",
       "      <td>6218</td>\n",
       "      <td>5</td>\n",
       "    </tr>\n",
       "    <tr>\n",
       "      <th>4</th>\n",
       "      <td>IndiGo</td>\n",
       "      <td>2019-03-01</td>\n",
       "      <td>Banglore</td>\n",
       "      <td>New Delhi</td>\n",
       "      <td>BLR → NAG → DEL</td>\n",
       "      <td>1900-01-01 16:50:00</td>\n",
       "      <td>1900-01-01 21:35:00</td>\n",
       "      <td>4h 45m</td>\n",
       "      <td>1 stop</td>\n",
       "      <td>No info</td>\n",
       "      <td>13302</td>\n",
       "      <td>3</td>\n",
       "    </tr>\n",
       "    <tr>\n",
       "      <th>...</th>\n",
       "      <td>...</td>\n",
       "      <td>...</td>\n",
       "      <td>...</td>\n",
       "      <td>...</td>\n",
       "      <td>...</td>\n",
       "      <td>...</td>\n",
       "      <td>...</td>\n",
       "      <td>...</td>\n",
       "      <td>...</td>\n",
       "      <td>...</td>\n",
       "      <td>...</td>\n",
       "      <td>...</td>\n",
       "    </tr>\n",
       "    <tr>\n",
       "      <th>10678</th>\n",
       "      <td>Air Asia</td>\n",
       "      <td>2019-04-09</td>\n",
       "      <td>Kolkata</td>\n",
       "      <td>Banglore</td>\n",
       "      <td>CCU → BLR</td>\n",
       "      <td>1900-01-01 19:55:00</td>\n",
       "      <td>1900-01-01 22:25:00</td>\n",
       "      <td>2h 30m</td>\n",
       "      <td>non-stop</td>\n",
       "      <td>No info</td>\n",
       "      <td>4107</td>\n",
       "      <td>4</td>\n",
       "    </tr>\n",
       "    <tr>\n",
       "      <th>10679</th>\n",
       "      <td>Air India</td>\n",
       "      <td>2019-04-27</td>\n",
       "      <td>Kolkata</td>\n",
       "      <td>Banglore</td>\n",
       "      <td>CCU → BLR</td>\n",
       "      <td>1900-01-01 20:45:00</td>\n",
       "      <td>1900-01-01 23:20:00</td>\n",
       "      <td>2h 35m</td>\n",
       "      <td>non-stop</td>\n",
       "      <td>No info</td>\n",
       "      <td>4145</td>\n",
       "      <td>4</td>\n",
       "    </tr>\n",
       "    <tr>\n",
       "      <th>10680</th>\n",
       "      <td>Jet Airways</td>\n",
       "      <td>2019-04-27</td>\n",
       "      <td>Banglore</td>\n",
       "      <td>Delhi</td>\n",
       "      <td>BLR → DEL</td>\n",
       "      <td>1900-01-01 08:20:00</td>\n",
       "      <td>1900-01-01 11:20:00</td>\n",
       "      <td>3h</td>\n",
       "      <td>non-stop</td>\n",
       "      <td>No info</td>\n",
       "      <td>7229</td>\n",
       "      <td>4</td>\n",
       "    </tr>\n",
       "    <tr>\n",
       "      <th>10681</th>\n",
       "      <td>Vistara</td>\n",
       "      <td>2019-03-01</td>\n",
       "      <td>Banglore</td>\n",
       "      <td>New Delhi</td>\n",
       "      <td>BLR → DEL</td>\n",
       "      <td>1900-01-01 11:30:00</td>\n",
       "      <td>1900-01-01 14:10:00</td>\n",
       "      <td>2h 40m</td>\n",
       "      <td>non-stop</td>\n",
       "      <td>No info</td>\n",
       "      <td>12648</td>\n",
       "      <td>3</td>\n",
       "    </tr>\n",
       "    <tr>\n",
       "      <th>10682</th>\n",
       "      <td>Air India</td>\n",
       "      <td>2019-05-09</td>\n",
       "      <td>Delhi</td>\n",
       "      <td>Cochin</td>\n",
       "      <td>DEL → GOI → BOM → COK</td>\n",
       "      <td>1900-01-01 10:55:00</td>\n",
       "      <td>1900-01-01 19:15:00</td>\n",
       "      <td>8h 20m</td>\n",
       "      <td>2 stops</td>\n",
       "      <td>No info</td>\n",
       "      <td>11753</td>\n",
       "      <td>5</td>\n",
       "    </tr>\n",
       "  </tbody>\n",
       "</table>\n",
       "<p>10683 rows × 12 columns</p>\n",
       "</div>"
      ],
      "text/plain": [
       "           Airline Date_of_Journey    Source Destination  \\\n",
       "0           IndiGo      2019-03-24  Banglore   New Delhi   \n",
       "1        Air India      2019-05-01   Kolkata    Banglore   \n",
       "2      Jet Airways      2019-06-09     Delhi      Cochin   \n",
       "3           IndiGo      2019-05-12   Kolkata    Banglore   \n",
       "4           IndiGo      2019-03-01  Banglore   New Delhi   \n",
       "...            ...             ...       ...         ...   \n",
       "10678     Air Asia      2019-04-09   Kolkata    Banglore   \n",
       "10679    Air India      2019-04-27   Kolkata    Banglore   \n",
       "10680  Jet Airways      2019-04-27  Banglore       Delhi   \n",
       "10681      Vistara      2019-03-01  Banglore   New Delhi   \n",
       "10682    Air India      2019-05-09     Delhi      Cochin   \n",
       "\n",
       "                       Route            Dep_Time        Arrival_Time Duration  \\\n",
       "0                  BLR → DEL 1900-01-01 22:20:00 1900-01-01 01:10:00   2h 50m   \n",
       "1      CCU → IXR → BBI → BLR 1900-01-01 05:50:00 1900-01-01 13:15:00   7h 25m   \n",
       "2      DEL → LKO → BOM → COK 1900-01-01 09:25:00 1900-01-01 04:25:00      19h   \n",
       "3            CCU → NAG → BLR 1900-01-01 18:05:00 1900-01-01 23:30:00   5h 25m   \n",
       "4            BLR → NAG → DEL 1900-01-01 16:50:00 1900-01-01 21:35:00   4h 45m   \n",
       "...                      ...                 ...                 ...      ...   \n",
       "10678              CCU → BLR 1900-01-01 19:55:00 1900-01-01 22:25:00   2h 30m   \n",
       "10679              CCU → BLR 1900-01-01 20:45:00 1900-01-01 23:20:00   2h 35m   \n",
       "10680              BLR → DEL 1900-01-01 08:20:00 1900-01-01 11:20:00       3h   \n",
       "10681              BLR → DEL 1900-01-01 11:30:00 1900-01-01 14:10:00   2h 40m   \n",
       "10682  DEL → GOI → BOM → COK 1900-01-01 10:55:00 1900-01-01 19:15:00   8h 20m   \n",
       "\n",
       "      Total_Stops Additional_Info  Price  Month  \n",
       "0        non-stop         No info   3897      3  \n",
       "1         2 stops         No info   7662      5  \n",
       "2         2 stops         No info  13882      6  \n",
       "3          1 stop         No info   6218      5  \n",
       "4          1 stop         No info  13302      3  \n",
       "...           ...             ...    ...    ...  \n",
       "10678    non-stop         No info   4107      4  \n",
       "10679    non-stop         No info   4145      4  \n",
       "10680    non-stop         No info   7229      4  \n",
       "10681    non-stop         No info  12648      3  \n",
       "10682     2 stops         No info  11753      5  \n",
       "\n",
       "[10683 rows x 12 columns]"
      ]
     },
     "execution_count": 454,
     "metadata": {},
     "output_type": "execute_result"
    }
   ],
   "source": [
    "df\n"
   ]
  },
  {
   "cell_type": "code",
   "execution_count": null,
   "id": "1303cc96",
   "metadata": {
    "execution": {
     "iopub.execute_input": "2024-12-22T23:15:37.610599Z",
     "iopub.status.busy": "2024-12-22T23:15:37.610240Z",
     "iopub.status.idle": "2024-12-22T23:15:37.685319Z",
     "shell.execute_reply": "2024-12-22T23:15:37.684085Z",
     "shell.execute_reply.started": "2024-12-22T23:15:37.610562Z"
    }
   },
   "outputs": [],
   "source": [
    "\n",
    "\n"
   ]
  },
  {
   "cell_type": "code",
   "execution_count": null,
   "id": "30bf2974",
   "metadata": {
    "execution": {
     "iopub.execute_input": "2024-12-22T23:15:37.686738Z",
     "iopub.status.busy": "2024-12-22T23:15:37.686416Z",
     "iopub.status.idle": "2024-12-22T23:15:37.703304Z",
     "shell.execute_reply": "2024-12-22T23:15:37.702180Z",
     "shell.execute_reply.started": "2024-12-22T23:15:37.686664Z"
    }
   },
   "outputs": [],
   "source": []
  },
  {
   "cell_type": "code",
   "execution_count": 455,
   "id": "296cbcbd",
   "metadata": {
    "execution": {
     "iopub.execute_input": "2024-12-22T23:15:37.704592Z",
     "iopub.status.busy": "2024-12-22T23:15:37.704290Z",
     "iopub.status.idle": "2024-12-22T23:15:37.770002Z",
     "shell.execute_reply": "2024-12-22T23:15:37.769003Z",
     "shell.execute_reply.started": "2024-12-22T23:15:37.704556Z"
    }
   },
   "outputs": [],
   "source": [
    "df['Duration'] = df['Duration'].apply(pd.to_timedelta)"
   ]
  },
  {
   "cell_type": "code",
   "execution_count": null,
   "id": "4df596a6",
   "metadata": {
    "execution": {
     "iopub.execute_input": "2024-12-22T23:15:37.771348Z",
     "iopub.status.busy": "2024-12-22T23:15:37.771011Z",
     "iopub.status.idle": "2024-12-22T23:15:37.777395Z",
     "shell.execute_reply": "2024-12-22T23:15:37.776367Z",
     "shell.execute_reply.started": "2024-12-22T23:15:37.771314Z"
    }
   },
   "outputs": [],
   "source": []
  },
  {
   "cell_type": "code",
   "execution_count": 456,
   "id": "02bd76ed",
   "metadata": {
    "execution": {
     "iopub.execute_input": "2024-12-22T23:15:37.778589Z",
     "iopub.status.busy": "2024-12-22T23:15:37.778271Z",
     "iopub.status.idle": "2024-12-22T23:15:37.809375Z",
     "shell.execute_reply": "2024-12-22T23:15:37.808045Z",
     "shell.execute_reply.started": "2024-12-22T23:15:37.778564Z"
    }
   },
   "outputs": [
    {
     "data": {
      "text/html": [
       "<div>\n",
       "<style scoped>\n",
       "    .dataframe tbody tr th:only-of-type {\n",
       "        vertical-align: middle;\n",
       "    }\n",
       "\n",
       "    .dataframe tbody tr th {\n",
       "        vertical-align: top;\n",
       "    }\n",
       "\n",
       "    .dataframe thead th {\n",
       "        text-align: right;\n",
       "    }\n",
       "</style>\n",
       "<table border=\"1\" class=\"dataframe\">\n",
       "  <thead>\n",
       "    <tr style=\"text-align: right;\">\n",
       "      <th></th>\n",
       "      <th>Airline</th>\n",
       "      <th>Date_of_Journey</th>\n",
       "      <th>Source</th>\n",
       "      <th>Destination</th>\n",
       "      <th>Route</th>\n",
       "      <th>Dep_Time</th>\n",
       "      <th>Arrival_Time</th>\n",
       "      <th>Duration</th>\n",
       "      <th>Total_Stops</th>\n",
       "      <th>Additional_Info</th>\n",
       "      <th>Price</th>\n",
       "      <th>Month</th>\n",
       "    </tr>\n",
       "  </thead>\n",
       "  <tbody>\n",
       "    <tr>\n",
       "      <th>0</th>\n",
       "      <td>IndiGo</td>\n",
       "      <td>2019-03-24</td>\n",
       "      <td>Banglore</td>\n",
       "      <td>New Delhi</td>\n",
       "      <td>BLR → DEL</td>\n",
       "      <td>1900-01-01 22:20:00</td>\n",
       "      <td>1900-01-01 01:10:00</td>\n",
       "      <td>0 days 02:50:00</td>\n",
       "      <td>non-stop</td>\n",
       "      <td>No info</td>\n",
       "      <td>3897</td>\n",
       "      <td>3</td>\n",
       "    </tr>\n",
       "    <tr>\n",
       "      <th>1</th>\n",
       "      <td>Air India</td>\n",
       "      <td>2019-05-01</td>\n",
       "      <td>Kolkata</td>\n",
       "      <td>Banglore</td>\n",
       "      <td>CCU → IXR → BBI → BLR</td>\n",
       "      <td>1900-01-01 05:50:00</td>\n",
       "      <td>1900-01-01 13:15:00</td>\n",
       "      <td>0 days 07:25:00</td>\n",
       "      <td>2 stops</td>\n",
       "      <td>No info</td>\n",
       "      <td>7662</td>\n",
       "      <td>5</td>\n",
       "    </tr>\n",
       "    <tr>\n",
       "      <th>2</th>\n",
       "      <td>Jet Airways</td>\n",
       "      <td>2019-06-09</td>\n",
       "      <td>Delhi</td>\n",
       "      <td>Cochin</td>\n",
       "      <td>DEL → LKO → BOM → COK</td>\n",
       "      <td>1900-01-01 09:25:00</td>\n",
       "      <td>1900-01-01 04:25:00</td>\n",
       "      <td>0 days 19:00:00</td>\n",
       "      <td>2 stops</td>\n",
       "      <td>No info</td>\n",
       "      <td>13882</td>\n",
       "      <td>6</td>\n",
       "    </tr>\n",
       "    <tr>\n",
       "      <th>3</th>\n",
       "      <td>IndiGo</td>\n",
       "      <td>2019-05-12</td>\n",
       "      <td>Kolkata</td>\n",
       "      <td>Banglore</td>\n",
       "      <td>CCU → NAG → BLR</td>\n",
       "      <td>1900-01-01 18:05:00</td>\n",
       "      <td>1900-01-01 23:30:00</td>\n",
       "      <td>0 days 05:25:00</td>\n",
       "      <td>1 stop</td>\n",
       "      <td>No info</td>\n",
       "      <td>6218</td>\n",
       "      <td>5</td>\n",
       "    </tr>\n",
       "    <tr>\n",
       "      <th>4</th>\n",
       "      <td>IndiGo</td>\n",
       "      <td>2019-03-01</td>\n",
       "      <td>Banglore</td>\n",
       "      <td>New Delhi</td>\n",
       "      <td>BLR → NAG → DEL</td>\n",
       "      <td>1900-01-01 16:50:00</td>\n",
       "      <td>1900-01-01 21:35:00</td>\n",
       "      <td>0 days 04:45:00</td>\n",
       "      <td>1 stop</td>\n",
       "      <td>No info</td>\n",
       "      <td>13302</td>\n",
       "      <td>3</td>\n",
       "    </tr>\n",
       "    <tr>\n",
       "      <th>...</th>\n",
       "      <td>...</td>\n",
       "      <td>...</td>\n",
       "      <td>...</td>\n",
       "      <td>...</td>\n",
       "      <td>...</td>\n",
       "      <td>...</td>\n",
       "      <td>...</td>\n",
       "      <td>...</td>\n",
       "      <td>...</td>\n",
       "      <td>...</td>\n",
       "      <td>...</td>\n",
       "      <td>...</td>\n",
       "    </tr>\n",
       "    <tr>\n",
       "      <th>10678</th>\n",
       "      <td>Air Asia</td>\n",
       "      <td>2019-04-09</td>\n",
       "      <td>Kolkata</td>\n",
       "      <td>Banglore</td>\n",
       "      <td>CCU → BLR</td>\n",
       "      <td>1900-01-01 19:55:00</td>\n",
       "      <td>1900-01-01 22:25:00</td>\n",
       "      <td>0 days 02:30:00</td>\n",
       "      <td>non-stop</td>\n",
       "      <td>No info</td>\n",
       "      <td>4107</td>\n",
       "      <td>4</td>\n",
       "    </tr>\n",
       "    <tr>\n",
       "      <th>10679</th>\n",
       "      <td>Air India</td>\n",
       "      <td>2019-04-27</td>\n",
       "      <td>Kolkata</td>\n",
       "      <td>Banglore</td>\n",
       "      <td>CCU → BLR</td>\n",
       "      <td>1900-01-01 20:45:00</td>\n",
       "      <td>1900-01-01 23:20:00</td>\n",
       "      <td>0 days 02:35:00</td>\n",
       "      <td>non-stop</td>\n",
       "      <td>No info</td>\n",
       "      <td>4145</td>\n",
       "      <td>4</td>\n",
       "    </tr>\n",
       "    <tr>\n",
       "      <th>10680</th>\n",
       "      <td>Jet Airways</td>\n",
       "      <td>2019-04-27</td>\n",
       "      <td>Banglore</td>\n",
       "      <td>Delhi</td>\n",
       "      <td>BLR → DEL</td>\n",
       "      <td>1900-01-01 08:20:00</td>\n",
       "      <td>1900-01-01 11:20:00</td>\n",
       "      <td>0 days 03:00:00</td>\n",
       "      <td>non-stop</td>\n",
       "      <td>No info</td>\n",
       "      <td>7229</td>\n",
       "      <td>4</td>\n",
       "    </tr>\n",
       "    <tr>\n",
       "      <th>10681</th>\n",
       "      <td>Vistara</td>\n",
       "      <td>2019-03-01</td>\n",
       "      <td>Banglore</td>\n",
       "      <td>New Delhi</td>\n",
       "      <td>BLR → DEL</td>\n",
       "      <td>1900-01-01 11:30:00</td>\n",
       "      <td>1900-01-01 14:10:00</td>\n",
       "      <td>0 days 02:40:00</td>\n",
       "      <td>non-stop</td>\n",
       "      <td>No info</td>\n",
       "      <td>12648</td>\n",
       "      <td>3</td>\n",
       "    </tr>\n",
       "    <tr>\n",
       "      <th>10682</th>\n",
       "      <td>Air India</td>\n",
       "      <td>2019-05-09</td>\n",
       "      <td>Delhi</td>\n",
       "      <td>Cochin</td>\n",
       "      <td>DEL → GOI → BOM → COK</td>\n",
       "      <td>1900-01-01 10:55:00</td>\n",
       "      <td>1900-01-01 19:15:00</td>\n",
       "      <td>0 days 08:20:00</td>\n",
       "      <td>2 stops</td>\n",
       "      <td>No info</td>\n",
       "      <td>11753</td>\n",
       "      <td>5</td>\n",
       "    </tr>\n",
       "  </tbody>\n",
       "</table>\n",
       "<p>10683 rows × 12 columns</p>\n",
       "</div>"
      ],
      "text/plain": [
       "           Airline Date_of_Journey    Source Destination  \\\n",
       "0           IndiGo      2019-03-24  Banglore   New Delhi   \n",
       "1        Air India      2019-05-01   Kolkata    Banglore   \n",
       "2      Jet Airways      2019-06-09     Delhi      Cochin   \n",
       "3           IndiGo      2019-05-12   Kolkata    Banglore   \n",
       "4           IndiGo      2019-03-01  Banglore   New Delhi   \n",
       "...            ...             ...       ...         ...   \n",
       "10678     Air Asia      2019-04-09   Kolkata    Banglore   \n",
       "10679    Air India      2019-04-27   Kolkata    Banglore   \n",
       "10680  Jet Airways      2019-04-27  Banglore       Delhi   \n",
       "10681      Vistara      2019-03-01  Banglore   New Delhi   \n",
       "10682    Air India      2019-05-09     Delhi      Cochin   \n",
       "\n",
       "                       Route            Dep_Time        Arrival_Time  \\\n",
       "0                  BLR → DEL 1900-01-01 22:20:00 1900-01-01 01:10:00   \n",
       "1      CCU → IXR → BBI → BLR 1900-01-01 05:50:00 1900-01-01 13:15:00   \n",
       "2      DEL → LKO → BOM → COK 1900-01-01 09:25:00 1900-01-01 04:25:00   \n",
       "3            CCU → NAG → BLR 1900-01-01 18:05:00 1900-01-01 23:30:00   \n",
       "4            BLR → NAG → DEL 1900-01-01 16:50:00 1900-01-01 21:35:00   \n",
       "...                      ...                 ...                 ...   \n",
       "10678              CCU → BLR 1900-01-01 19:55:00 1900-01-01 22:25:00   \n",
       "10679              CCU → BLR 1900-01-01 20:45:00 1900-01-01 23:20:00   \n",
       "10680              BLR → DEL 1900-01-01 08:20:00 1900-01-01 11:20:00   \n",
       "10681              BLR → DEL 1900-01-01 11:30:00 1900-01-01 14:10:00   \n",
       "10682  DEL → GOI → BOM → COK 1900-01-01 10:55:00 1900-01-01 19:15:00   \n",
       "\n",
       "             Duration Total_Stops Additional_Info  Price  Month  \n",
       "0     0 days 02:50:00    non-stop         No info   3897      3  \n",
       "1     0 days 07:25:00     2 stops         No info   7662      5  \n",
       "2     0 days 19:00:00     2 stops         No info  13882      6  \n",
       "3     0 days 05:25:00      1 stop         No info   6218      5  \n",
       "4     0 days 04:45:00      1 stop         No info  13302      3  \n",
       "...               ...         ...             ...    ...    ...  \n",
       "10678 0 days 02:30:00    non-stop         No info   4107      4  \n",
       "10679 0 days 02:35:00    non-stop         No info   4145      4  \n",
       "10680 0 days 03:00:00    non-stop         No info   7229      4  \n",
       "10681 0 days 02:40:00    non-stop         No info  12648      3  \n",
       "10682 0 days 08:20:00     2 stops         No info  11753      5  \n",
       "\n",
       "[10683 rows x 12 columns]"
      ]
     },
     "execution_count": 456,
     "metadata": {},
     "output_type": "execute_result"
    }
   ],
   "source": [
    "df"
   ]
  },
  {
   "cell_type": "code",
   "execution_count": null,
   "id": "8bad4d6f",
   "metadata": {
    "execution": {
     "iopub.execute_input": "2024-12-22T23:15:37.810832Z",
     "iopub.status.busy": "2024-12-22T23:15:37.810466Z",
     "iopub.status.idle": "2024-12-22T23:15:37.816923Z",
     "shell.execute_reply": "2024-12-22T23:15:37.816065Z",
     "shell.execute_reply.started": "2024-12-22T23:15:37.810808Z"
    }
   },
   "outputs": [],
   "source": []
  },
  {
   "cell_type": "code",
   "execution_count": 457,
   "id": "2bfbfaf3",
   "metadata": {
    "execution": {
     "iopub.execute_input": "2024-12-22T23:15:37.818327Z",
     "iopub.status.busy": "2024-12-22T23:15:37.818029Z",
     "iopub.status.idle": "2024-12-22T23:15:37.845130Z",
     "shell.execute_reply": "2024-12-22T23:15:37.844167Z",
     "shell.execute_reply.started": "2024-12-22T23:15:37.818292Z"
    }
   },
   "outputs": [
    {
     "data": {
      "text/html": [
       "<div>\n",
       "<style scoped>\n",
       "    .dataframe tbody tr th:only-of-type {\n",
       "        vertical-align: middle;\n",
       "    }\n",
       "\n",
       "    .dataframe tbody tr th {\n",
       "        vertical-align: top;\n",
       "    }\n",
       "\n",
       "    .dataframe thead th {\n",
       "        text-align: right;\n",
       "    }\n",
       "</style>\n",
       "<table border=\"1\" class=\"dataframe\">\n",
       "  <thead>\n",
       "    <tr style=\"text-align: right;\">\n",
       "      <th></th>\n",
       "      <th>Airline</th>\n",
       "      <th>Date_of_Journey</th>\n",
       "      <th>Source</th>\n",
       "      <th>Destination</th>\n",
       "      <th>Route</th>\n",
       "      <th>Dep_Time</th>\n",
       "      <th>Arrival_Time</th>\n",
       "      <th>Duration</th>\n",
       "      <th>Total_Stops</th>\n",
       "      <th>Additional_Info</th>\n",
       "      <th>Price</th>\n",
       "      <th>Month</th>\n",
       "    </tr>\n",
       "  </thead>\n",
       "  <tbody>\n",
       "    <tr>\n",
       "      <th>0</th>\n",
       "      <td>IndiGo</td>\n",
       "      <td>2019-03-24</td>\n",
       "      <td>Banglore</td>\n",
       "      <td>New Delhi</td>\n",
       "      <td>BLR → DEL</td>\n",
       "      <td>1900-01-01 22:20:00</td>\n",
       "      <td>1900-01-01 01:10:00</td>\n",
       "      <td>0 days 02:50:00</td>\n",
       "      <td>non-stop</td>\n",
       "      <td>No info</td>\n",
       "      <td>3897</td>\n",
       "      <td>3</td>\n",
       "    </tr>\n",
       "    <tr>\n",
       "      <th>1</th>\n",
       "      <td>Air India</td>\n",
       "      <td>2019-05-01</td>\n",
       "      <td>Kolkata</td>\n",
       "      <td>Banglore</td>\n",
       "      <td>CCU → IXR → BBI → BLR</td>\n",
       "      <td>1900-01-01 05:50:00</td>\n",
       "      <td>1900-01-01 13:15:00</td>\n",
       "      <td>0 days 07:25:00</td>\n",
       "      <td>2 stops</td>\n",
       "      <td>No info</td>\n",
       "      <td>7662</td>\n",
       "      <td>5</td>\n",
       "    </tr>\n",
       "    <tr>\n",
       "      <th>2</th>\n",
       "      <td>Jet Airways</td>\n",
       "      <td>2019-06-09</td>\n",
       "      <td>Delhi</td>\n",
       "      <td>Cochin</td>\n",
       "      <td>DEL → LKO → BOM → COK</td>\n",
       "      <td>1900-01-01 09:25:00</td>\n",
       "      <td>1900-01-01 04:25:00</td>\n",
       "      <td>0 days 19:00:00</td>\n",
       "      <td>2 stops</td>\n",
       "      <td>No info</td>\n",
       "      <td>13882</td>\n",
       "      <td>6</td>\n",
       "    </tr>\n",
       "    <tr>\n",
       "      <th>3</th>\n",
       "      <td>IndiGo</td>\n",
       "      <td>2019-05-12</td>\n",
       "      <td>Kolkata</td>\n",
       "      <td>Banglore</td>\n",
       "      <td>CCU → NAG → BLR</td>\n",
       "      <td>1900-01-01 18:05:00</td>\n",
       "      <td>1900-01-01 23:30:00</td>\n",
       "      <td>0 days 05:25:00</td>\n",
       "      <td>1 stop</td>\n",
       "      <td>No info</td>\n",
       "      <td>6218</td>\n",
       "      <td>5</td>\n",
       "    </tr>\n",
       "    <tr>\n",
       "      <th>4</th>\n",
       "      <td>IndiGo</td>\n",
       "      <td>2019-03-01</td>\n",
       "      <td>Banglore</td>\n",
       "      <td>New Delhi</td>\n",
       "      <td>BLR → NAG → DEL</td>\n",
       "      <td>1900-01-01 16:50:00</td>\n",
       "      <td>1900-01-01 21:35:00</td>\n",
       "      <td>0 days 04:45:00</td>\n",
       "      <td>1 stop</td>\n",
       "      <td>No info</td>\n",
       "      <td>13302</td>\n",
       "      <td>3</td>\n",
       "    </tr>\n",
       "    <tr>\n",
       "      <th>...</th>\n",
       "      <td>...</td>\n",
       "      <td>...</td>\n",
       "      <td>...</td>\n",
       "      <td>...</td>\n",
       "      <td>...</td>\n",
       "      <td>...</td>\n",
       "      <td>...</td>\n",
       "      <td>...</td>\n",
       "      <td>...</td>\n",
       "      <td>...</td>\n",
       "      <td>...</td>\n",
       "      <td>...</td>\n",
       "    </tr>\n",
       "    <tr>\n",
       "      <th>10678</th>\n",
       "      <td>Air Asia</td>\n",
       "      <td>2019-04-09</td>\n",
       "      <td>Kolkata</td>\n",
       "      <td>Banglore</td>\n",
       "      <td>CCU → BLR</td>\n",
       "      <td>1900-01-01 19:55:00</td>\n",
       "      <td>1900-01-01 22:25:00</td>\n",
       "      <td>0 days 02:30:00</td>\n",
       "      <td>non-stop</td>\n",
       "      <td>No info</td>\n",
       "      <td>4107</td>\n",
       "      <td>4</td>\n",
       "    </tr>\n",
       "    <tr>\n",
       "      <th>10679</th>\n",
       "      <td>Air India</td>\n",
       "      <td>2019-04-27</td>\n",
       "      <td>Kolkata</td>\n",
       "      <td>Banglore</td>\n",
       "      <td>CCU → BLR</td>\n",
       "      <td>1900-01-01 20:45:00</td>\n",
       "      <td>1900-01-01 23:20:00</td>\n",
       "      <td>0 days 02:35:00</td>\n",
       "      <td>non-stop</td>\n",
       "      <td>No info</td>\n",
       "      <td>4145</td>\n",
       "      <td>4</td>\n",
       "    </tr>\n",
       "    <tr>\n",
       "      <th>10680</th>\n",
       "      <td>Jet Airways</td>\n",
       "      <td>2019-04-27</td>\n",
       "      <td>Banglore</td>\n",
       "      <td>Delhi</td>\n",
       "      <td>BLR → DEL</td>\n",
       "      <td>1900-01-01 08:20:00</td>\n",
       "      <td>1900-01-01 11:20:00</td>\n",
       "      <td>0 days 03:00:00</td>\n",
       "      <td>non-stop</td>\n",
       "      <td>No info</td>\n",
       "      <td>7229</td>\n",
       "      <td>4</td>\n",
       "    </tr>\n",
       "    <tr>\n",
       "      <th>10681</th>\n",
       "      <td>Vistara</td>\n",
       "      <td>2019-03-01</td>\n",
       "      <td>Banglore</td>\n",
       "      <td>New Delhi</td>\n",
       "      <td>BLR → DEL</td>\n",
       "      <td>1900-01-01 11:30:00</td>\n",
       "      <td>1900-01-01 14:10:00</td>\n",
       "      <td>0 days 02:40:00</td>\n",
       "      <td>non-stop</td>\n",
       "      <td>No info</td>\n",
       "      <td>12648</td>\n",
       "      <td>3</td>\n",
       "    </tr>\n",
       "    <tr>\n",
       "      <th>10682</th>\n",
       "      <td>Air India</td>\n",
       "      <td>2019-05-09</td>\n",
       "      <td>Delhi</td>\n",
       "      <td>Cochin</td>\n",
       "      <td>DEL → GOI → BOM → COK</td>\n",
       "      <td>1900-01-01 10:55:00</td>\n",
       "      <td>1900-01-01 19:15:00</td>\n",
       "      <td>0 days 08:20:00</td>\n",
       "      <td>2 stops</td>\n",
       "      <td>No info</td>\n",
       "      <td>11753</td>\n",
       "      <td>5</td>\n",
       "    </tr>\n",
       "  </tbody>\n",
       "</table>\n",
       "<p>10683 rows × 12 columns</p>\n",
       "</div>"
      ],
      "text/plain": [
       "           Airline Date_of_Journey    Source Destination  \\\n",
       "0           IndiGo      2019-03-24  Banglore   New Delhi   \n",
       "1        Air India      2019-05-01   Kolkata    Banglore   \n",
       "2      Jet Airways      2019-06-09     Delhi      Cochin   \n",
       "3           IndiGo      2019-05-12   Kolkata    Banglore   \n",
       "4           IndiGo      2019-03-01  Banglore   New Delhi   \n",
       "...            ...             ...       ...         ...   \n",
       "10678     Air Asia      2019-04-09   Kolkata    Banglore   \n",
       "10679    Air India      2019-04-27   Kolkata    Banglore   \n",
       "10680  Jet Airways      2019-04-27  Banglore       Delhi   \n",
       "10681      Vistara      2019-03-01  Banglore   New Delhi   \n",
       "10682    Air India      2019-05-09     Delhi      Cochin   \n",
       "\n",
       "                       Route            Dep_Time        Arrival_Time  \\\n",
       "0                  BLR → DEL 1900-01-01 22:20:00 1900-01-01 01:10:00   \n",
       "1      CCU → IXR → BBI → BLR 1900-01-01 05:50:00 1900-01-01 13:15:00   \n",
       "2      DEL → LKO → BOM → COK 1900-01-01 09:25:00 1900-01-01 04:25:00   \n",
       "3            CCU → NAG → BLR 1900-01-01 18:05:00 1900-01-01 23:30:00   \n",
       "4            BLR → NAG → DEL 1900-01-01 16:50:00 1900-01-01 21:35:00   \n",
       "...                      ...                 ...                 ...   \n",
       "10678              CCU → BLR 1900-01-01 19:55:00 1900-01-01 22:25:00   \n",
       "10679              CCU → BLR 1900-01-01 20:45:00 1900-01-01 23:20:00   \n",
       "10680              BLR → DEL 1900-01-01 08:20:00 1900-01-01 11:20:00   \n",
       "10681              BLR → DEL 1900-01-01 11:30:00 1900-01-01 14:10:00   \n",
       "10682  DEL → GOI → BOM → COK 1900-01-01 10:55:00 1900-01-01 19:15:00   \n",
       "\n",
       "             Duration Total_Stops Additional_Info  Price  Month  \n",
       "0     0 days 02:50:00    non-stop         No info   3897      3  \n",
       "1     0 days 07:25:00     2 stops         No info   7662      5  \n",
       "2     0 days 19:00:00     2 stops         No info  13882      6  \n",
       "3     0 days 05:25:00      1 stop         No info   6218      5  \n",
       "4     0 days 04:45:00      1 stop         No info  13302      3  \n",
       "...               ...         ...             ...    ...    ...  \n",
       "10678 0 days 02:30:00    non-stop         No info   4107      4  \n",
       "10679 0 days 02:35:00    non-stop         No info   4145      4  \n",
       "10680 0 days 03:00:00    non-stop         No info   7229      4  \n",
       "10681 0 days 02:40:00    non-stop         No info  12648      3  \n",
       "10682 0 days 08:20:00     2 stops         No info  11753      5  \n",
       "\n",
       "[10683 rows x 12 columns]"
      ]
     },
     "execution_count": 457,
     "metadata": {},
     "output_type": "execute_result"
    }
   ],
   "source": [
    "df"
   ]
  },
  {
   "cell_type": "code",
   "execution_count": null,
   "id": "a4d04e3f",
   "metadata": {},
   "outputs": [],
   "source": []
  },
  {
   "cell_type": "code",
   "execution_count": 458,
   "id": "5e1aa48c",
   "metadata": {
    "execution": {
     "iopub.execute_input": "2024-12-22T23:15:37.851344Z",
     "iopub.status.busy": "2024-12-22T23:15:37.851080Z",
     "iopub.status.idle": "2024-12-22T23:15:37.874147Z",
     "shell.execute_reply": "2024-12-22T23:15:37.873083Z",
     "shell.execute_reply.started": "2024-12-22T23:15:37.851322Z"
    }
   },
   "outputs": [
    {
     "data": {
      "text/html": [
       "<div>\n",
       "<style scoped>\n",
       "    .dataframe tbody tr th:only-of-type {\n",
       "        vertical-align: middle;\n",
       "    }\n",
       "\n",
       "    .dataframe tbody tr th {\n",
       "        vertical-align: top;\n",
       "    }\n",
       "\n",
       "    .dataframe thead th {\n",
       "        text-align: right;\n",
       "    }\n",
       "</style>\n",
       "<table border=\"1\" class=\"dataframe\">\n",
       "  <thead>\n",
       "    <tr style=\"text-align: right;\">\n",
       "      <th></th>\n",
       "      <th>Airline</th>\n",
       "      <th>Date_of_Journey</th>\n",
       "      <th>Source</th>\n",
       "      <th>Destination</th>\n",
       "      <th>Route</th>\n",
       "      <th>Dep_Time</th>\n",
       "      <th>Arrival_Time</th>\n",
       "      <th>Duration</th>\n",
       "      <th>Total_Stops</th>\n",
       "      <th>Additional_Info</th>\n",
       "      <th>Price</th>\n",
       "      <th>Month</th>\n",
       "    </tr>\n",
       "  </thead>\n",
       "  <tbody>\n",
       "    <tr>\n",
       "      <th>0</th>\n",
       "      <td>IndiGo</td>\n",
       "      <td>2019-03-24</td>\n",
       "      <td>Banglore</td>\n",
       "      <td>New Delhi</td>\n",
       "      <td>BLR → DEL</td>\n",
       "      <td>1900-01-01 22:20:00</td>\n",
       "      <td>1900-01-01 01:10:00</td>\n",
       "      <td>0 days 02:50:00</td>\n",
       "      <td>non-stop</td>\n",
       "      <td>No info</td>\n",
       "      <td>3897</td>\n",
       "      <td>3</td>\n",
       "    </tr>\n",
       "    <tr>\n",
       "      <th>1</th>\n",
       "      <td>Air India</td>\n",
       "      <td>2019-05-01</td>\n",
       "      <td>Kolkata</td>\n",
       "      <td>Banglore</td>\n",
       "      <td>CCU → IXR → BBI → BLR</td>\n",
       "      <td>1900-01-01 05:50:00</td>\n",
       "      <td>1900-01-01 13:15:00</td>\n",
       "      <td>0 days 07:25:00</td>\n",
       "      <td>2 stops</td>\n",
       "      <td>No info</td>\n",
       "      <td>7662</td>\n",
       "      <td>5</td>\n",
       "    </tr>\n",
       "    <tr>\n",
       "      <th>2</th>\n",
       "      <td>Jet Airways</td>\n",
       "      <td>2019-06-09</td>\n",
       "      <td>Delhi</td>\n",
       "      <td>Cochin</td>\n",
       "      <td>DEL → LKO → BOM → COK</td>\n",
       "      <td>1900-01-01 09:25:00</td>\n",
       "      <td>1900-01-01 04:25:00</td>\n",
       "      <td>0 days 19:00:00</td>\n",
       "      <td>2 stops</td>\n",
       "      <td>No info</td>\n",
       "      <td>13882</td>\n",
       "      <td>6</td>\n",
       "    </tr>\n",
       "    <tr>\n",
       "      <th>3</th>\n",
       "      <td>IndiGo</td>\n",
       "      <td>2019-05-12</td>\n",
       "      <td>Kolkata</td>\n",
       "      <td>Banglore</td>\n",
       "      <td>CCU → NAG → BLR</td>\n",
       "      <td>1900-01-01 18:05:00</td>\n",
       "      <td>1900-01-01 23:30:00</td>\n",
       "      <td>0 days 05:25:00</td>\n",
       "      <td>1 stop</td>\n",
       "      <td>No info</td>\n",
       "      <td>6218</td>\n",
       "      <td>5</td>\n",
       "    </tr>\n",
       "    <tr>\n",
       "      <th>4</th>\n",
       "      <td>IndiGo</td>\n",
       "      <td>2019-03-01</td>\n",
       "      <td>Banglore</td>\n",
       "      <td>New Delhi</td>\n",
       "      <td>BLR → NAG → DEL</td>\n",
       "      <td>1900-01-01 16:50:00</td>\n",
       "      <td>1900-01-01 21:35:00</td>\n",
       "      <td>0 days 04:45:00</td>\n",
       "      <td>1 stop</td>\n",
       "      <td>No info</td>\n",
       "      <td>13302</td>\n",
       "      <td>3</td>\n",
       "    </tr>\n",
       "    <tr>\n",
       "      <th>...</th>\n",
       "      <td>...</td>\n",
       "      <td>...</td>\n",
       "      <td>...</td>\n",
       "      <td>...</td>\n",
       "      <td>...</td>\n",
       "      <td>...</td>\n",
       "      <td>...</td>\n",
       "      <td>...</td>\n",
       "      <td>...</td>\n",
       "      <td>...</td>\n",
       "      <td>...</td>\n",
       "      <td>...</td>\n",
       "    </tr>\n",
       "    <tr>\n",
       "      <th>10678</th>\n",
       "      <td>Air Asia</td>\n",
       "      <td>2019-04-09</td>\n",
       "      <td>Kolkata</td>\n",
       "      <td>Banglore</td>\n",
       "      <td>CCU → BLR</td>\n",
       "      <td>1900-01-01 19:55:00</td>\n",
       "      <td>1900-01-01 22:25:00</td>\n",
       "      <td>0 days 02:30:00</td>\n",
       "      <td>non-stop</td>\n",
       "      <td>No info</td>\n",
       "      <td>4107</td>\n",
       "      <td>4</td>\n",
       "    </tr>\n",
       "    <tr>\n",
       "      <th>10679</th>\n",
       "      <td>Air India</td>\n",
       "      <td>2019-04-27</td>\n",
       "      <td>Kolkata</td>\n",
       "      <td>Banglore</td>\n",
       "      <td>CCU → BLR</td>\n",
       "      <td>1900-01-01 20:45:00</td>\n",
       "      <td>1900-01-01 23:20:00</td>\n",
       "      <td>0 days 02:35:00</td>\n",
       "      <td>non-stop</td>\n",
       "      <td>No info</td>\n",
       "      <td>4145</td>\n",
       "      <td>4</td>\n",
       "    </tr>\n",
       "    <tr>\n",
       "      <th>10680</th>\n",
       "      <td>Jet Airways</td>\n",
       "      <td>2019-04-27</td>\n",
       "      <td>Banglore</td>\n",
       "      <td>Delhi</td>\n",
       "      <td>BLR → DEL</td>\n",
       "      <td>1900-01-01 08:20:00</td>\n",
       "      <td>1900-01-01 11:20:00</td>\n",
       "      <td>0 days 03:00:00</td>\n",
       "      <td>non-stop</td>\n",
       "      <td>No info</td>\n",
       "      <td>7229</td>\n",
       "      <td>4</td>\n",
       "    </tr>\n",
       "    <tr>\n",
       "      <th>10681</th>\n",
       "      <td>Vistara</td>\n",
       "      <td>2019-03-01</td>\n",
       "      <td>Banglore</td>\n",
       "      <td>New Delhi</td>\n",
       "      <td>BLR → DEL</td>\n",
       "      <td>1900-01-01 11:30:00</td>\n",
       "      <td>1900-01-01 14:10:00</td>\n",
       "      <td>0 days 02:40:00</td>\n",
       "      <td>non-stop</td>\n",
       "      <td>No info</td>\n",
       "      <td>12648</td>\n",
       "      <td>3</td>\n",
       "    </tr>\n",
       "    <tr>\n",
       "      <th>10682</th>\n",
       "      <td>Air India</td>\n",
       "      <td>2019-05-09</td>\n",
       "      <td>Delhi</td>\n",
       "      <td>Cochin</td>\n",
       "      <td>DEL → GOI → BOM → COK</td>\n",
       "      <td>1900-01-01 10:55:00</td>\n",
       "      <td>1900-01-01 19:15:00</td>\n",
       "      <td>0 days 08:20:00</td>\n",
       "      <td>2 stops</td>\n",
       "      <td>No info</td>\n",
       "      <td>11753</td>\n",
       "      <td>5</td>\n",
       "    </tr>\n",
       "  </tbody>\n",
       "</table>\n",
       "<p>10683 rows × 12 columns</p>\n",
       "</div>"
      ],
      "text/plain": [
       "           Airline Date_of_Journey    Source Destination  \\\n",
       "0           IndiGo      2019-03-24  Banglore   New Delhi   \n",
       "1        Air India      2019-05-01   Kolkata    Banglore   \n",
       "2      Jet Airways      2019-06-09     Delhi      Cochin   \n",
       "3           IndiGo      2019-05-12   Kolkata    Banglore   \n",
       "4           IndiGo      2019-03-01  Banglore   New Delhi   \n",
       "...            ...             ...       ...         ...   \n",
       "10678     Air Asia      2019-04-09   Kolkata    Banglore   \n",
       "10679    Air India      2019-04-27   Kolkata    Banglore   \n",
       "10680  Jet Airways      2019-04-27  Banglore       Delhi   \n",
       "10681      Vistara      2019-03-01  Banglore   New Delhi   \n",
       "10682    Air India      2019-05-09     Delhi      Cochin   \n",
       "\n",
       "                       Route            Dep_Time        Arrival_Time  \\\n",
       "0                  BLR → DEL 1900-01-01 22:20:00 1900-01-01 01:10:00   \n",
       "1      CCU → IXR → BBI → BLR 1900-01-01 05:50:00 1900-01-01 13:15:00   \n",
       "2      DEL → LKO → BOM → COK 1900-01-01 09:25:00 1900-01-01 04:25:00   \n",
       "3            CCU → NAG → BLR 1900-01-01 18:05:00 1900-01-01 23:30:00   \n",
       "4            BLR → NAG → DEL 1900-01-01 16:50:00 1900-01-01 21:35:00   \n",
       "...                      ...                 ...                 ...   \n",
       "10678              CCU → BLR 1900-01-01 19:55:00 1900-01-01 22:25:00   \n",
       "10679              CCU → BLR 1900-01-01 20:45:00 1900-01-01 23:20:00   \n",
       "10680              BLR → DEL 1900-01-01 08:20:00 1900-01-01 11:20:00   \n",
       "10681              BLR → DEL 1900-01-01 11:30:00 1900-01-01 14:10:00   \n",
       "10682  DEL → GOI → BOM → COK 1900-01-01 10:55:00 1900-01-01 19:15:00   \n",
       "\n",
       "             Duration Total_Stops Additional_Info  Price  Month  \n",
       "0     0 days 02:50:00    non-stop         No info   3897      3  \n",
       "1     0 days 07:25:00     2 stops         No info   7662      5  \n",
       "2     0 days 19:00:00     2 stops         No info  13882      6  \n",
       "3     0 days 05:25:00      1 stop         No info   6218      5  \n",
       "4     0 days 04:45:00      1 stop         No info  13302      3  \n",
       "...               ...         ...             ...    ...    ...  \n",
       "10678 0 days 02:30:00    non-stop         No info   4107      4  \n",
       "10679 0 days 02:35:00    non-stop         No info   4145      4  \n",
       "10680 0 days 03:00:00    non-stop         No info   7229      4  \n",
       "10681 0 days 02:40:00    non-stop         No info  12648      3  \n",
       "10682 0 days 08:20:00     2 stops         No info  11753      5  \n",
       "\n",
       "[10683 rows x 12 columns]"
      ]
     },
     "execution_count": 458,
     "metadata": {},
     "output_type": "execute_result"
    }
   ],
   "source": [
    "df"
   ]
  },
  {
   "cell_type": "code",
   "execution_count": 459,
   "id": "cf838877",
   "metadata": {
    "execution": {
     "iopub.execute_input": "2024-12-22T23:15:37.877161Z",
     "iopub.status.busy": "2024-12-22T23:15:37.876783Z",
     "iopub.status.idle": "2024-12-22T23:15:37.890426Z",
     "shell.execute_reply": "2024-12-22T23:15:37.889594Z",
     "shell.execute_reply.started": "2024-12-22T23:15:37.877127Z"
    }
   },
   "outputs": [
    {
     "data": {
      "text/plain": [
       "array(['non-stop', '2 stops', '1 stop', '3 stops', nan, '4 stops'],\n",
       "      dtype=object)"
      ]
     },
     "execution_count": 459,
     "metadata": {},
     "output_type": "execute_result"
    }
   ],
   "source": [
    " df['Total_Stops'].unique()"
   ]
  },
  {
   "cell_type": "code",
   "execution_count": 460,
   "id": "20c4e263",
   "metadata": {
    "execution": {
     "iopub.execute_input": "2024-12-22T23:15:37.891711Z",
     "iopub.status.busy": "2024-12-22T23:15:37.891432Z",
     "iopub.status.idle": "2024-12-22T23:15:37.910432Z",
     "shell.execute_reply": "2024-12-22T23:15:37.909427Z",
     "shell.execute_reply.started": "2024-12-22T23:15:37.891654Z"
    }
   },
   "outputs": [],
   "source": [
    "df['Total_Stops'] = df['Total_Stops'].str.replace('non-stop', '0 stop')"
   ]
  },
  {
   "cell_type": "code",
   "execution_count": 461,
   "id": "df86285b",
   "metadata": {
    "execution": {
     "iopub.execute_input": "2024-12-22T23:15:37.911709Z",
     "iopub.status.busy": "2024-12-22T23:15:37.911431Z",
     "iopub.status.idle": "2024-12-22T23:15:37.927873Z",
     "shell.execute_reply": "2024-12-22T23:15:37.926976Z",
     "shell.execute_reply.started": "2024-12-22T23:15:37.911657Z"
    }
   },
   "outputs": [],
   "source": [
    "df['Total_Stops'] = df['Total_Stops'].fillna('0 stop')"
   ]
  },
  {
   "cell_type": "code",
   "execution_count": 462,
   "id": "4f117b97",
   "metadata": {
    "execution": {
     "iopub.execute_input": "2024-12-22T23:15:37.929106Z",
     "iopub.status.busy": "2024-12-22T23:15:37.928790Z",
     "iopub.status.idle": "2024-12-22T23:15:37.947844Z",
     "shell.execute_reply": "2024-12-22T23:15:37.946935Z",
     "shell.execute_reply.started": "2024-12-22T23:15:37.929082Z"
    }
   },
   "outputs": [
    {
     "data": {
      "text/plain": [
       "<bound method Series.unique of 0         0 stop\n",
       "1        2 stops\n",
       "2        2 stops\n",
       "3         1 stop\n",
       "4         1 stop\n",
       "          ...   \n",
       "10678     0 stop\n",
       "10679     0 stop\n",
       "10680     0 stop\n",
       "10681     0 stop\n",
       "10682    2 stops\n",
       "Name: Total_Stops, Length: 10683, dtype: object>"
      ]
     },
     "execution_count": 462,
     "metadata": {},
     "output_type": "execute_result"
    }
   ],
   "source": [
    " df['Total_Stops'].unique"
   ]
  },
  {
   "cell_type": "code",
   "execution_count": null,
   "id": "70e6635b",
   "metadata": {},
   "outputs": [],
   "source": []
  },
  {
   "cell_type": "code",
   "execution_count": 463,
   "id": "82076a5d",
   "metadata": {
    "execution": {
     "iopub.execute_input": "2024-12-22T23:15:37.949233Z",
     "iopub.status.busy": "2024-12-22T23:15:37.948916Z",
     "iopub.status.idle": "2024-12-22T23:15:37.982954Z",
     "shell.execute_reply": "2024-12-22T23:15:37.981871Z",
     "shell.execute_reply.started": "2024-12-22T23:15:37.949194Z"
    }
   },
   "outputs": [],
   "source": [
    "\n",
    "df['Total_Stops'] = df['Total_Stops'].str.replace(r'\\D', '', regex=True).astype(int)"
   ]
  },
  {
   "cell_type": "code",
   "execution_count": 464,
   "id": "e1381fe4",
   "metadata": {
    "execution": {
     "iopub.execute_input": "2024-12-22T23:15:37.984218Z",
     "iopub.status.busy": "2024-12-22T23:15:37.983943Z",
     "iopub.status.idle": "2024-12-22T23:15:38.011871Z",
     "shell.execute_reply": "2024-12-22T23:15:38.010709Z",
     "shell.execute_reply.started": "2024-12-22T23:15:37.984193Z"
    }
   },
   "outputs": [
    {
     "name": "stdout",
     "output_type": "stream",
     "text": [
      "<class 'pandas.core.frame.DataFrame'>\n",
      "RangeIndex: 10683 entries, 0 to 10682\n",
      "Data columns (total 12 columns):\n",
      " #   Column           Non-Null Count  Dtype          \n",
      "---  ------           --------------  -----          \n",
      " 0   Airline          10683 non-null  object         \n",
      " 1   Date_of_Journey  10683 non-null  datetime64[ns] \n",
      " 2   Source           10683 non-null  object         \n",
      " 3   Destination      10683 non-null  object         \n",
      " 4   Route            10682 non-null  object         \n",
      " 5   Dep_Time         10683 non-null  datetime64[ns] \n",
      " 6   Arrival_Time     10683 non-null  datetime64[ns] \n",
      " 7   Duration         10683 non-null  timedelta64[ns]\n",
      " 8   Total_Stops      10683 non-null  int32          \n",
      " 9   Additional_Info  10683 non-null  object         \n",
      " 10  Price            10683 non-null  int64          \n",
      " 11  Month            10683 non-null  int32          \n",
      "dtypes: datetime64[ns](3), int32(2), int64(1), object(5), timedelta64[ns](1)\n",
      "memory usage: 918.2+ KB\n"
     ]
    }
   ],
   "source": [
    "df.info()"
   ]
  },
  {
   "cell_type": "code",
   "execution_count": null,
   "id": "6ad21957",
   "metadata": {},
   "outputs": [],
   "source": []
  },
  {
   "cell_type": "code",
   "execution_count": 465,
   "id": "81ad4b87",
   "metadata": {
    "execution": {
     "iopub.execute_input": "2024-12-22T23:15:38.013094Z",
     "iopub.status.busy": "2024-12-22T23:15:38.012814Z",
     "iopub.status.idle": "2024-12-22T23:15:38.130976Z",
     "shell.execute_reply": "2024-12-22T23:15:38.129880Z",
     "shell.execute_reply.started": "2024-12-22T23:15:38.013069Z"
    }
   },
   "outputs": [
    {
     "data": {
      "text/html": [
       "<div>\n",
       "<style scoped>\n",
       "    .dataframe tbody tr th:only-of-type {\n",
       "        vertical-align: middle;\n",
       "    }\n",
       "\n",
       "    .dataframe tbody tr th {\n",
       "        vertical-align: top;\n",
       "    }\n",
       "\n",
       "    .dataframe thead th {\n",
       "        text-align: right;\n",
       "    }\n",
       "</style>\n",
       "<table border=\"1\" class=\"dataframe\">\n",
       "  <thead>\n",
       "    <tr style=\"text-align: right;\">\n",
       "      <th></th>\n",
       "      <th>Airline</th>\n",
       "      <th>Date_of_Journey</th>\n",
       "      <th>Source</th>\n",
       "      <th>Destination</th>\n",
       "      <th>Route</th>\n",
       "      <th>Dep_Time</th>\n",
       "      <th>Arrival_Time</th>\n",
       "      <th>Duration</th>\n",
       "      <th>Total_Stops</th>\n",
       "      <th>Additional_Info</th>\n",
       "      <th>Price</th>\n",
       "      <th>Month</th>\n",
       "    </tr>\n",
       "  </thead>\n",
       "  <tbody>\n",
       "    <tr>\n",
       "      <th>0</th>\n",
       "      <td>IndiGo</td>\n",
       "      <td>2019-03-24</td>\n",
       "      <td>Banglore</td>\n",
       "      <td>New Delhi</td>\n",
       "      <td>BLR → DEL</td>\n",
       "      <td>1900-01-01 22:20:00</td>\n",
       "      <td>1900-01-01 01:10:00</td>\n",
       "      <td>0 days 02:50:00</td>\n",
       "      <td>0</td>\n",
       "      <td>No info</td>\n",
       "      <td>3897</td>\n",
       "      <td>3</td>\n",
       "    </tr>\n",
       "    <tr>\n",
       "      <th>1</th>\n",
       "      <td>Air India</td>\n",
       "      <td>2019-05-01</td>\n",
       "      <td>Kolkata</td>\n",
       "      <td>Banglore</td>\n",
       "      <td>CCU → IXR → BBI → BLR</td>\n",
       "      <td>1900-01-01 05:50:00</td>\n",
       "      <td>1900-01-01 13:15:00</td>\n",
       "      <td>0 days 07:25:00</td>\n",
       "      <td>2</td>\n",
       "      <td>No info</td>\n",
       "      <td>7662</td>\n",
       "      <td>5</td>\n",
       "    </tr>\n",
       "    <tr>\n",
       "      <th>2</th>\n",
       "      <td>Jet Airways</td>\n",
       "      <td>2019-06-09</td>\n",
       "      <td>Delhi</td>\n",
       "      <td>Cochin</td>\n",
       "      <td>DEL → LKO → BOM → COK</td>\n",
       "      <td>1900-01-01 09:25:00</td>\n",
       "      <td>1900-01-01 04:25:00</td>\n",
       "      <td>0 days 19:00:00</td>\n",
       "      <td>2</td>\n",
       "      <td>No info</td>\n",
       "      <td>13882</td>\n",
       "      <td>6</td>\n",
       "    </tr>\n",
       "    <tr>\n",
       "      <th>3</th>\n",
       "      <td>IndiGo</td>\n",
       "      <td>2019-05-12</td>\n",
       "      <td>Kolkata</td>\n",
       "      <td>Banglore</td>\n",
       "      <td>CCU → NAG → BLR</td>\n",
       "      <td>1900-01-01 18:05:00</td>\n",
       "      <td>1900-01-01 23:30:00</td>\n",
       "      <td>0 days 05:25:00</td>\n",
       "      <td>1</td>\n",
       "      <td>No info</td>\n",
       "      <td>6218</td>\n",
       "      <td>5</td>\n",
       "    </tr>\n",
       "    <tr>\n",
       "      <th>4</th>\n",
       "      <td>IndiGo</td>\n",
       "      <td>2019-03-01</td>\n",
       "      <td>Banglore</td>\n",
       "      <td>New Delhi</td>\n",
       "      <td>BLR → NAG → DEL</td>\n",
       "      <td>1900-01-01 16:50:00</td>\n",
       "      <td>1900-01-01 21:35:00</td>\n",
       "      <td>0 days 04:45:00</td>\n",
       "      <td>1</td>\n",
       "      <td>No info</td>\n",
       "      <td>13302</td>\n",
       "      <td>3</td>\n",
       "    </tr>\n",
       "    <tr>\n",
       "      <th>...</th>\n",
       "      <td>...</td>\n",
       "      <td>...</td>\n",
       "      <td>...</td>\n",
       "      <td>...</td>\n",
       "      <td>...</td>\n",
       "      <td>...</td>\n",
       "      <td>...</td>\n",
       "      <td>...</td>\n",
       "      <td>...</td>\n",
       "      <td>...</td>\n",
       "      <td>...</td>\n",
       "      <td>...</td>\n",
       "    </tr>\n",
       "    <tr>\n",
       "      <th>10678</th>\n",
       "      <td>Air Asia</td>\n",
       "      <td>2019-04-09</td>\n",
       "      <td>Kolkata</td>\n",
       "      <td>Banglore</td>\n",
       "      <td>CCU → BLR</td>\n",
       "      <td>1900-01-01 19:55:00</td>\n",
       "      <td>1900-01-01 22:25:00</td>\n",
       "      <td>0 days 02:30:00</td>\n",
       "      <td>0</td>\n",
       "      <td>No info</td>\n",
       "      <td>4107</td>\n",
       "      <td>4</td>\n",
       "    </tr>\n",
       "    <tr>\n",
       "      <th>10679</th>\n",
       "      <td>Air India</td>\n",
       "      <td>2019-04-27</td>\n",
       "      <td>Kolkata</td>\n",
       "      <td>Banglore</td>\n",
       "      <td>CCU → BLR</td>\n",
       "      <td>1900-01-01 20:45:00</td>\n",
       "      <td>1900-01-01 23:20:00</td>\n",
       "      <td>0 days 02:35:00</td>\n",
       "      <td>0</td>\n",
       "      <td>No info</td>\n",
       "      <td>4145</td>\n",
       "      <td>4</td>\n",
       "    </tr>\n",
       "    <tr>\n",
       "      <th>10680</th>\n",
       "      <td>Jet Airways</td>\n",
       "      <td>2019-04-27</td>\n",
       "      <td>Banglore</td>\n",
       "      <td>Delhi</td>\n",
       "      <td>BLR → DEL</td>\n",
       "      <td>1900-01-01 08:20:00</td>\n",
       "      <td>1900-01-01 11:20:00</td>\n",
       "      <td>0 days 03:00:00</td>\n",
       "      <td>0</td>\n",
       "      <td>No info</td>\n",
       "      <td>7229</td>\n",
       "      <td>4</td>\n",
       "    </tr>\n",
       "    <tr>\n",
       "      <th>10681</th>\n",
       "      <td>Vistara</td>\n",
       "      <td>2019-03-01</td>\n",
       "      <td>Banglore</td>\n",
       "      <td>New Delhi</td>\n",
       "      <td>BLR → DEL</td>\n",
       "      <td>1900-01-01 11:30:00</td>\n",
       "      <td>1900-01-01 14:10:00</td>\n",
       "      <td>0 days 02:40:00</td>\n",
       "      <td>0</td>\n",
       "      <td>No info</td>\n",
       "      <td>12648</td>\n",
       "      <td>3</td>\n",
       "    </tr>\n",
       "    <tr>\n",
       "      <th>10682</th>\n",
       "      <td>Air India</td>\n",
       "      <td>2019-05-09</td>\n",
       "      <td>Delhi</td>\n",
       "      <td>Cochin</td>\n",
       "      <td>DEL → GOI → BOM → COK</td>\n",
       "      <td>1900-01-01 10:55:00</td>\n",
       "      <td>1900-01-01 19:15:00</td>\n",
       "      <td>0 days 08:20:00</td>\n",
       "      <td>2</td>\n",
       "      <td>No info</td>\n",
       "      <td>11753</td>\n",
       "      <td>5</td>\n",
       "    </tr>\n",
       "  </tbody>\n",
       "</table>\n",
       "<p>10683 rows × 12 columns</p>\n",
       "</div>"
      ],
      "text/plain": [
       "           Airline Date_of_Journey    Source Destination  \\\n",
       "0           IndiGo      2019-03-24  Banglore   New Delhi   \n",
       "1        Air India      2019-05-01   Kolkata    Banglore   \n",
       "2      Jet Airways      2019-06-09     Delhi      Cochin   \n",
       "3           IndiGo      2019-05-12   Kolkata    Banglore   \n",
       "4           IndiGo      2019-03-01  Banglore   New Delhi   \n",
       "...            ...             ...       ...         ...   \n",
       "10678     Air Asia      2019-04-09   Kolkata    Banglore   \n",
       "10679    Air India      2019-04-27   Kolkata    Banglore   \n",
       "10680  Jet Airways      2019-04-27  Banglore       Delhi   \n",
       "10681      Vistara      2019-03-01  Banglore   New Delhi   \n",
       "10682    Air India      2019-05-09     Delhi      Cochin   \n",
       "\n",
       "                       Route            Dep_Time        Arrival_Time  \\\n",
       "0                  BLR → DEL 1900-01-01 22:20:00 1900-01-01 01:10:00   \n",
       "1      CCU → IXR → BBI → BLR 1900-01-01 05:50:00 1900-01-01 13:15:00   \n",
       "2      DEL → LKO → BOM → COK 1900-01-01 09:25:00 1900-01-01 04:25:00   \n",
       "3            CCU → NAG → BLR 1900-01-01 18:05:00 1900-01-01 23:30:00   \n",
       "4            BLR → NAG → DEL 1900-01-01 16:50:00 1900-01-01 21:35:00   \n",
       "...                      ...                 ...                 ...   \n",
       "10678              CCU → BLR 1900-01-01 19:55:00 1900-01-01 22:25:00   \n",
       "10679              CCU → BLR 1900-01-01 20:45:00 1900-01-01 23:20:00   \n",
       "10680              BLR → DEL 1900-01-01 08:20:00 1900-01-01 11:20:00   \n",
       "10681              BLR → DEL 1900-01-01 11:30:00 1900-01-01 14:10:00   \n",
       "10682  DEL → GOI → BOM → COK 1900-01-01 10:55:00 1900-01-01 19:15:00   \n",
       "\n",
       "             Duration  Total_Stops Additional_Info  Price  Month  \n",
       "0     0 days 02:50:00            0         No info   3897      3  \n",
       "1     0 days 07:25:00            2         No info   7662      5  \n",
       "2     0 days 19:00:00            2         No info  13882      6  \n",
       "3     0 days 05:25:00            1         No info   6218      5  \n",
       "4     0 days 04:45:00            1         No info  13302      3  \n",
       "...               ...          ...             ...    ...    ...  \n",
       "10678 0 days 02:30:00            0         No info   4107      4  \n",
       "10679 0 days 02:35:00            0         No info   4145      4  \n",
       "10680 0 days 03:00:00            0         No info   7229      4  \n",
       "10681 0 days 02:40:00            0         No info  12648      3  \n",
       "10682 0 days 08:20:00            2         No info  11753      5  \n",
       "\n",
       "[10683 rows x 12 columns]"
      ]
     },
     "execution_count": 465,
     "metadata": {},
     "output_type": "execute_result"
    }
   ],
   "source": [
    "df"
   ]
  },
  {
   "cell_type": "code",
   "execution_count": 466,
   "id": "d75d3e5e",
   "metadata": {
    "execution": {
     "iopub.execute_input": "2024-12-22T23:15:38.132549Z",
     "iopub.status.busy": "2024-12-22T23:15:38.132192Z",
     "iopub.status.idle": "2024-12-22T23:15:38.148734Z",
     "shell.execute_reply": "2024-12-22T23:15:38.147724Z",
     "shell.execute_reply.started": "2024-12-22T23:15:38.132513Z"
    }
   },
   "outputs": [
    {
     "data": {
      "text/html": [
       "<div>\n",
       "<style scoped>\n",
       "    .dataframe tbody tr th:only-of-type {\n",
       "        vertical-align: middle;\n",
       "    }\n",
       "\n",
       "    .dataframe tbody tr th {\n",
       "        vertical-align: top;\n",
       "    }\n",
       "\n",
       "    .dataframe thead th {\n",
       "        text-align: right;\n",
       "    }\n",
       "</style>\n",
       "<table border=\"1\" class=\"dataframe\">\n",
       "  <thead>\n",
       "    <tr style=\"text-align: right;\">\n",
       "      <th></th>\n",
       "      <th>Airline</th>\n",
       "      <th>Date_of_Journey</th>\n",
       "      <th>Source</th>\n",
       "      <th>Destination</th>\n",
       "      <th>Route</th>\n",
       "      <th>Dep_Time</th>\n",
       "      <th>Arrival_Time</th>\n",
       "      <th>Duration</th>\n",
       "      <th>Total_Stops</th>\n",
       "      <th>Additional_Info</th>\n",
       "      <th>Price</th>\n",
       "      <th>Month</th>\n",
       "    </tr>\n",
       "  </thead>\n",
       "  <tbody>\n",
       "    <tr>\n",
       "      <th>9039</th>\n",
       "      <td>Air India</td>\n",
       "      <td>2019-05-06</td>\n",
       "      <td>Delhi</td>\n",
       "      <td>Cochin</td>\n",
       "      <td>NaN</td>\n",
       "      <td>1900-01-01 09:45:00</td>\n",
       "      <td>1900-01-01 09:25:00</td>\n",
       "      <td>0 days 23:40:00</td>\n",
       "      <td>0</td>\n",
       "      <td>No info</td>\n",
       "      <td>7480</td>\n",
       "      <td>5</td>\n",
       "    </tr>\n",
       "  </tbody>\n",
       "</table>\n",
       "</div>"
      ],
      "text/plain": [
       "        Airline Date_of_Journey Source Destination Route            Dep_Time  \\\n",
       "9039  Air India      2019-05-06  Delhi      Cochin   NaN 1900-01-01 09:45:00   \n",
       "\n",
       "            Arrival_Time        Duration  Total_Stops Additional_Info  Price  \\\n",
       "9039 1900-01-01 09:25:00 0 days 23:40:00            0         No info   7480   \n",
       "\n",
       "      Month  \n",
       "9039      5  "
      ]
     },
     "execution_count": 466,
     "metadata": {},
     "output_type": "execute_result"
    }
   ],
   "source": [
    "df[df['Route'].isna()]"
   ]
  },
  {
   "cell_type": "code",
   "execution_count": 467,
   "id": "5264ce25",
   "metadata": {
    "execution": {
     "iopub.execute_input": "2024-12-22T23:15:38.150105Z",
     "iopub.status.busy": "2024-12-22T23:15:38.149818Z",
     "iopub.status.idle": "2024-12-22T23:15:38.168521Z",
     "shell.execute_reply": "2024-12-22T23:15:38.167419Z",
     "shell.execute_reply.started": "2024-12-22T23:15:38.150081Z"
    }
   },
   "outputs": [],
   "source": [
    "df.dropna(subset=['Route'], inplace=True)\n"
   ]
  },
  {
   "cell_type": "code",
   "execution_count": 468,
   "id": "864fbf99",
   "metadata": {
    "execution": {
     "iopub.execute_input": "2024-12-22T23:15:38.170205Z",
     "iopub.status.busy": "2024-12-22T23:15:38.169851Z",
     "iopub.status.idle": "2024-12-22T23:15:38.190844Z",
     "shell.execute_reply": "2024-12-22T23:15:38.189748Z",
     "shell.execute_reply.started": "2024-12-22T23:15:38.170170Z"
    }
   },
   "outputs": [
    {
     "data": {
      "text/html": [
       "<div>\n",
       "<style scoped>\n",
       "    .dataframe tbody tr th:only-of-type {\n",
       "        vertical-align: middle;\n",
       "    }\n",
       "\n",
       "    .dataframe tbody tr th {\n",
       "        vertical-align: top;\n",
       "    }\n",
       "\n",
       "    .dataframe thead th {\n",
       "        text-align: right;\n",
       "    }\n",
       "</style>\n",
       "<table border=\"1\" class=\"dataframe\">\n",
       "  <thead>\n",
       "    <tr style=\"text-align: right;\">\n",
       "      <th></th>\n",
       "      <th>Airline</th>\n",
       "      <th>Date_of_Journey</th>\n",
       "      <th>Source</th>\n",
       "      <th>Destination</th>\n",
       "      <th>Route</th>\n",
       "      <th>Dep_Time</th>\n",
       "      <th>Arrival_Time</th>\n",
       "      <th>Duration</th>\n",
       "      <th>Total_Stops</th>\n",
       "      <th>Additional_Info</th>\n",
       "      <th>Price</th>\n",
       "      <th>Month</th>\n",
       "    </tr>\n",
       "  </thead>\n",
       "  <tbody>\n",
       "  </tbody>\n",
       "</table>\n",
       "</div>"
      ],
      "text/plain": [
       "Empty DataFrame\n",
       "Columns: [Airline, Date_of_Journey, Source, Destination, Route, Dep_Time, Arrival_Time, Duration, Total_Stops, Additional_Info, Price, Month]\n",
       "Index: []"
      ]
     },
     "execution_count": 468,
     "metadata": {},
     "output_type": "execute_result"
    }
   ],
   "source": [
    "df[df['Route'].isna()]"
   ]
  },
  {
   "cell_type": "code",
   "execution_count": 469,
   "id": "b2be4904",
   "metadata": {
    "execution": {
     "iopub.execute_input": "2024-12-22T23:15:38.192251Z",
     "iopub.status.busy": "2024-12-22T23:15:38.191976Z",
     "iopub.status.idle": "2024-12-22T23:15:38.215403Z",
     "shell.execute_reply": "2024-12-22T23:15:38.214447Z",
     "shell.execute_reply.started": "2024-12-22T23:15:38.192226Z"
    }
   },
   "outputs": [],
   "source": [
    "df['stops'] = df['Route'].str.count('→') - 1\n"
   ]
  },
  {
   "cell_type": "code",
   "execution_count": 470,
   "id": "58de98a8",
   "metadata": {
    "execution": {
     "iopub.execute_input": "2024-12-22T23:15:38.216765Z",
     "iopub.status.busy": "2024-12-22T23:15:38.216390Z",
     "iopub.status.idle": "2024-12-22T23:15:38.234333Z",
     "shell.execute_reply": "2024-12-22T23:15:38.233272Z",
     "shell.execute_reply.started": "2024-12-22T23:15:38.216726Z"
    }
   },
   "outputs": [
    {
     "data": {
      "text/plain": [
       "array([0], dtype=int64)"
      ]
     },
     "execution_count": 470,
     "metadata": {},
     "output_type": "execute_result"
    }
   ],
   "source": [
    "(df['Total_Stops']-df['stops'] ).unique()"
   ]
  },
  {
   "cell_type": "code",
   "execution_count": 471,
   "id": "d4e2eb89",
   "metadata": {
    "execution": {
     "iopub.execute_input": "2024-12-22T23:15:38.235849Z",
     "iopub.status.busy": "2024-12-22T23:15:38.235486Z",
     "iopub.status.idle": "2024-12-22T23:15:38.251870Z",
     "shell.execute_reply": "2024-12-22T23:15:38.250960Z",
     "shell.execute_reply.started": "2024-12-22T23:15:38.235823Z"
    }
   },
   "outputs": [],
   "source": [
    "df.drop(columns='stops',inplace=True)"
   ]
  },
  {
   "cell_type": "code",
   "execution_count": 472,
   "id": "8b87c1de",
   "metadata": {
    "execution": {
     "iopub.execute_input": "2024-12-22T23:15:38.253206Z",
     "iopub.status.busy": "2024-12-22T23:15:38.252872Z",
     "iopub.status.idle": "2024-12-22T23:15:38.275081Z",
     "shell.execute_reply": "2024-12-22T23:15:38.273972Z",
     "shell.execute_reply.started": "2024-12-22T23:15:38.253168Z"
    }
   },
   "outputs": [
    {
     "data": {
      "text/plain": [
       "Airline            0.0\n",
       "Date_of_Journey    0.0\n",
       "Source             0.0\n",
       "Destination        0.0\n",
       "Route              0.0\n",
       "Dep_Time           0.0\n",
       "Arrival_Time       0.0\n",
       "Duration           0.0\n",
       "Total_Stops        0.0\n",
       "Additional_Info    0.0\n",
       "Price              0.0\n",
       "Month              0.0\n",
       "dtype: float64"
      ]
     },
     "execution_count": 472,
     "metadata": {},
     "output_type": "execute_result"
    }
   ],
   "source": [
    "df.isna().sum().sort_values(ascending=False)/df.shape[0]"
   ]
  },
  {
   "cell_type": "code",
   "execution_count": 473,
   "id": "19804093",
   "metadata": {
    "execution": {
     "iopub.execute_input": "2024-12-22T23:15:38.276309Z",
     "iopub.status.busy": "2024-12-22T23:15:38.276043Z",
     "iopub.status.idle": "2024-12-22T23:15:39.060994Z",
     "shell.execute_reply": "2024-12-22T23:15:39.059565Z",
     "shell.execute_reply.started": "2024-12-22T23:15:38.276285Z"
    }
   },
   "outputs": [
    {
     "data": {
      "text/plain": [
       "<Axes: >"
      ]
     },
     "execution_count": 473,
     "metadata": {},
     "output_type": "execute_result"
    },
    {
     "data": {
      "image/png": "[encoded data removed]",
      "text/plain": [
       "<Figure size 2500x1000 with 2 Axes>"
      ]
     },
     "metadata": {},
     "output_type": "display_data"
    }
   ],
   "source": [
    "missingno.matrix(df)"
   ]
  },
  {
   "cell_type": "code",
   "execution_count": 474,
   "id": "bf3d75ad",
   "metadata": {
    "execution": {
     "iopub.execute_input": "2024-12-22T23:15:39.062249Z",
     "iopub.status.busy": "2024-12-22T23:15:39.061906Z",
     "iopub.status.idle": "2024-12-22T23:15:39.068862Z",
     "shell.execute_reply": "2024-12-22T23:15:39.068015Z",
     "shell.execute_reply.started": "2024-12-22T23:15:39.062223Z"
    }
   },
   "outputs": [
    {
     "data": {
      "text/plain": [
       "array(['IndiGo', 'Air India', 'Jet Airways', 'SpiceJet',\n",
       "       'Multiple carriers', 'GoAir', 'Vistara', 'Air Asia',\n",
       "       'Vistara Premium economy', 'Jet Airways Business',\n",
       "       'Multiple carriers Premium economy', 'Trujet'], dtype=object)"
      ]
     },
     "execution_count": 474,
     "metadata": {},
     "output_type": "execute_result"
    }
   ],
   "source": [
    "df['Airline'].unique()"
   ]
  },
  {
   "cell_type": "code",
   "execution_count": 475,
   "id": "106a9df9",
   "metadata": {
    "execution": {
     "iopub.execute_input": "2024-12-22T23:15:39.070096Z",
     "iopub.status.busy": "2024-12-22T23:15:39.069755Z",
     "iopub.status.idle": "2024-12-22T23:15:39.085798Z",
     "shell.execute_reply": "2024-12-22T23:15:39.084798Z",
     "shell.execute_reply.started": "2024-12-22T23:15:39.070061Z"
    }
   },
   "outputs": [
    {
     "data": {
      "text/plain": [
       "array([3, 5, 6, 4])"
      ]
     },
     "execution_count": 475,
     "metadata": {},
     "output_type": "execute_result"
    }
   ],
   "source": [
    "df['Month'].unique()"
   ]
  },
  {
   "cell_type": "code",
   "execution_count": 476,
   "id": "d3b69357",
   "metadata": {},
   "outputs": [
    {
     "name": "stdout",
     "output_type": "stream",
     "text": [
      "<class 'pandas.core.frame.DataFrame'>\n",
      "Index: 10682 entries, 0 to 10682\n",
      "Data columns (total 12 columns):\n",
      " #   Column           Non-Null Count  Dtype          \n",
      "---  ------           --------------  -----          \n",
      " 0   Airline          10682 non-null  object         \n",
      " 1   Date_of_Journey  10682 non-null  datetime64[ns] \n",
      " 2   Source           10682 non-null  object         \n",
      " 3   Destination      10682 non-null  object         \n",
      " 4   Route            10682 non-null  object         \n",
      " 5   Dep_Time         10682 non-null  datetime64[ns] \n",
      " 6   Arrival_Time     10682 non-null  datetime64[ns] \n",
      " 7   Duration         10682 non-null  timedelta64[ns]\n",
      " 8   Total_Stops      10682 non-null  int32          \n",
      " 9   Additional_Info  10682 non-null  object         \n",
      " 10  Price            10682 non-null  int64          \n",
      " 11  Month            10682 non-null  int32          \n",
      "dtypes: datetime64[ns](3), int32(2), int64(1), object(5), timedelta64[ns](1)\n",
      "memory usage: 1001.4+ KB\n"
     ]
    }
   ],
   "source": [
    "df.info()"
   ]
  },
  {
   "cell_type": "code",
   "execution_count": 477,
   "id": "4ff3aed8",
   "metadata": {},
   "outputs": [],
   "source": [
    "def classify_time_of_day(hour):\n",
    "    if 0 <= hour < 6:\n",
    "        return 'Midnight'\n",
    "    elif 6 <= hour < 12:\n",
    "        return 'Morning'\n",
    "    elif 12 <= hour < 18:\n",
    "        return 'Afternoon'\n",
    "    elif 18 <= hour < 22:\n",
    "        return 'Evening'\n",
    "    else:\n",
    "        return 'Night'\n",
    "\n",
    "df['Time_of_Day'] = df['Dep_Time'].dt.hour.apply(classify_time_of_day)"
   ]
  },
  {
   "cell_type": "code",
   "execution_count": 478,
   "id": "874f491c",
   "metadata": {
    "execution": {
     "iopub.execute_input": "2024-12-22T23:15:39.086922Z",
     "iopub.status.busy": "2024-12-22T23:15:39.086611Z",
     "iopub.status.idle": "2024-12-22T23:15:39.103802Z",
     "shell.execute_reply": "2024-12-22T23:15:39.102968Z",
     "shell.execute_reply.started": "2024-12-22T23:15:39.086898Z"
    }
   },
   "outputs": [],
   "source": [
    "df.drop(columns=['Date_of_Journey', 'Route', 'Dep_Time', 'Arrival_Time'],inplace=True)"
   ]
  },
  {
   "cell_type": "code",
   "execution_count": null,
   "id": "2ccfdfd2",
   "metadata": {},
   "outputs": [],
   "source": []
  },
  {
   "cell_type": "code",
   "execution_count": 479,
   "id": "e3b1ac67",
   "metadata": {},
   "outputs": [
    {
     "data": {
      "text/plain": [
       "4693"
      ]
     },
     "execution_count": 479,
     "metadata": {},
     "output_type": "execute_result"
    }
   ],
   "source": [
    "df.duplicated().sum()"
   ]
  },
  {
   "cell_type": "code",
   "execution_count": 480,
   "id": "59ff46a8",
   "metadata": {},
   "outputs": [
    {
     "data": {
      "text/html": [
       "<div>\n",
       "<style scoped>\n",
       "    .dataframe tbody tr th:only-of-type {\n",
       "        vertical-align: middle;\n",
       "    }\n",
       "\n",
       "    .dataframe tbody tr th {\n",
       "        vertical-align: top;\n",
       "    }\n",
       "\n",
       "    .dataframe thead th {\n",
       "        text-align: right;\n",
       "    }\n",
       "</style>\n",
       "<table border=\"1\" class=\"dataframe\">\n",
       "  <thead>\n",
       "    <tr style=\"text-align: right;\">\n",
       "      <th></th>\n",
       "      <th>Airline</th>\n",
       "      <th>Source</th>\n",
       "      <th>Destination</th>\n",
       "      <th>Duration</th>\n",
       "      <th>Total_Stops</th>\n",
       "      <th>Additional_Info</th>\n",
       "      <th>Price</th>\n",
       "      <th>Month</th>\n",
       "      <th>Time_of_Day</th>\n",
       "    </tr>\n",
       "  </thead>\n",
       "  <tbody>\n",
       "    <tr>\n",
       "      <th>30</th>\n",
       "      <td>Vistara</td>\n",
       "      <td>Chennai</td>\n",
       "      <td>Kolkata</td>\n",
       "      <td>0 days 02:15:00</td>\n",
       "      <td>0</td>\n",
       "      <td>No info</td>\n",
       "      <td>3687</td>\n",
       "      <td>6</td>\n",
       "      <td>Morning</td>\n",
       "    </tr>\n",
       "    <tr>\n",
       "      <th>65</th>\n",
       "      <td>IndiGo</td>\n",
       "      <td>Delhi</td>\n",
       "      <td>Cochin</td>\n",
       "      <td>0 days 10:25:00</td>\n",
       "      <td>1</td>\n",
       "      <td>No info</td>\n",
       "      <td>5894</td>\n",
       "      <td>6</td>\n",
       "      <td>Morning</td>\n",
       "    </tr>\n",
       "    <tr>\n",
       "      <th>142</th>\n",
       "      <td>IndiGo</td>\n",
       "      <td>Delhi</td>\n",
       "      <td>Cochin</td>\n",
       "      <td>0 days 05:25:00</td>\n",
       "      <td>1</td>\n",
       "      <td>No info</td>\n",
       "      <td>5636</td>\n",
       "      <td>6</td>\n",
       "      <td>Midnight</td>\n",
       "    </tr>\n",
       "    <tr>\n",
       "      <th>153</th>\n",
       "      <td>Jet Airways</td>\n",
       "      <td>Kolkata</td>\n",
       "      <td>Banglore</td>\n",
       "      <td>0 days 12:20:00</td>\n",
       "      <td>1</td>\n",
       "      <td>No info</td>\n",
       "      <td>14781</td>\n",
       "      <td>5</td>\n",
       "      <td>Morning</td>\n",
       "    </tr>\n",
       "    <tr>\n",
       "      <th>156</th>\n",
       "      <td>Jet Airways</td>\n",
       "      <td>Delhi</td>\n",
       "      <td>Cochin</td>\n",
       "      <td>0 days 16:35:00</td>\n",
       "      <td>2</td>\n",
       "      <td>No info</td>\n",
       "      <td>14300</td>\n",
       "      <td>6</td>\n",
       "      <td>Evening</td>\n",
       "    </tr>\n",
       "    <tr>\n",
       "      <th>...</th>\n",
       "      <td>...</td>\n",
       "      <td>...</td>\n",
       "      <td>...</td>\n",
       "      <td>...</td>\n",
       "      <td>...</td>\n",
       "      <td>...</td>\n",
       "      <td>...</td>\n",
       "      <td>...</td>\n",
       "      <td>...</td>\n",
       "    </tr>\n",
       "    <tr>\n",
       "      <th>10676</th>\n",
       "      <td>Multiple carriers</td>\n",
       "      <td>Delhi</td>\n",
       "      <td>Cochin</td>\n",
       "      <td>0 days 08:40:00</td>\n",
       "      <td>1</td>\n",
       "      <td>No info</td>\n",
       "      <td>9794</td>\n",
       "      <td>5</td>\n",
       "      <td>Morning</td>\n",
       "    </tr>\n",
       "    <tr>\n",
       "      <th>10677</th>\n",
       "      <td>SpiceJet</td>\n",
       "      <td>Banglore</td>\n",
       "      <td>Delhi</td>\n",
       "      <td>0 days 02:40:00</td>\n",
       "      <td>0</td>\n",
       "      <td>No check-in baggage included</td>\n",
       "      <td>3257</td>\n",
       "      <td>5</td>\n",
       "      <td>Midnight</td>\n",
       "    </tr>\n",
       "    <tr>\n",
       "      <th>10678</th>\n",
       "      <td>Air Asia</td>\n",
       "      <td>Kolkata</td>\n",
       "      <td>Banglore</td>\n",
       "      <td>0 days 02:30:00</td>\n",
       "      <td>0</td>\n",
       "      <td>No info</td>\n",
       "      <td>4107</td>\n",
       "      <td>4</td>\n",
       "      <td>Evening</td>\n",
       "    </tr>\n",
       "    <tr>\n",
       "      <th>10679</th>\n",
       "      <td>Air India</td>\n",
       "      <td>Kolkata</td>\n",
       "      <td>Banglore</td>\n",
       "      <td>0 days 02:35:00</td>\n",
       "      <td>0</td>\n",
       "      <td>No info</td>\n",
       "      <td>4145</td>\n",
       "      <td>4</td>\n",
       "      <td>Evening</td>\n",
       "    </tr>\n",
       "    <tr>\n",
       "      <th>10680</th>\n",
       "      <td>Jet Airways</td>\n",
       "      <td>Banglore</td>\n",
       "      <td>Delhi</td>\n",
       "      <td>0 days 03:00:00</td>\n",
       "      <td>0</td>\n",
       "      <td>No info</td>\n",
       "      <td>7229</td>\n",
       "      <td>4</td>\n",
       "      <td>Morning</td>\n",
       "    </tr>\n",
       "  </tbody>\n",
       "</table>\n",
       "<p>4693 rows × 9 columns</p>\n",
       "</div>"
      ],
      "text/plain": [
       "                 Airline    Source Destination        Duration  Total_Stops  \\\n",
       "30               Vistara   Chennai     Kolkata 0 days 02:15:00            0   \n",
       "65                IndiGo     Delhi      Cochin 0 days 10:25:00            1   \n",
       "142               IndiGo     Delhi      Cochin 0 days 05:25:00            1   \n",
       "153          Jet Airways   Kolkata    Banglore 0 days 12:20:00            1   \n",
       "156          Jet Airways     Delhi      Cochin 0 days 16:35:00            2   \n",
       "...                  ...       ...         ...             ...          ...   \n",
       "10676  Multiple carriers     Delhi      Cochin 0 days 08:40:00            1   \n",
       "10677           SpiceJet  Banglore       Delhi 0 days 02:40:00            0   \n",
       "10678           Air Asia   Kolkata    Banglore 0 days 02:30:00            0   \n",
       "10679          Air India   Kolkata    Banglore 0 days 02:35:00            0   \n",
       "10680        Jet Airways  Banglore       Delhi 0 days 03:00:00            0   \n",
       "\n",
       "                    Additional_Info  Price  Month Time_of_Day  \n",
       "30                          No info   3687      6     Morning  \n",
       "65                          No info   5894      6     Morning  \n",
       "142                         No info   5636      6    Midnight  \n",
       "153                         No info  14781      5     Morning  \n",
       "156                         No info  14300      6     Evening  \n",
       "...                             ...    ...    ...         ...  \n",
       "10676                       No info   9794      5     Morning  \n",
       "10677  No check-in baggage included   3257      5    Midnight  \n",
       "10678                       No info   4107      4     Evening  \n",
       "10679                       No info   4145      4     Evening  \n",
       "10680                       No info   7229      4     Morning  \n",
       "\n",
       "[4693 rows x 9 columns]"
      ]
     },
     "execution_count": 480,
     "metadata": {},
     "output_type": "execute_result"
    }
   ],
   "source": [
    "df[df.duplicated()]"
   ]
  },
  {
   "cell_type": "code",
   "execution_count": 481,
   "id": "d2db571a",
   "metadata": {},
   "outputs": [],
   "source": [
    "df.drop_duplicates(inplace=True)"
   ]
  },
  {
   "cell_type": "code",
   "execution_count": 482,
   "id": "c35b49ac",
   "metadata": {
    "execution": {
     "iopub.execute_input": "2024-12-22T23:15:39.105124Z",
     "iopub.status.busy": "2024-12-22T23:15:39.104881Z",
     "iopub.status.idle": "2024-12-22T23:15:39.130744Z",
     "shell.execute_reply": "2024-12-22T23:15:39.129658Z",
     "shell.execute_reply.started": "2024-12-22T23:15:39.105103Z"
    }
   },
   "outputs": [
    {
     "data": {
      "text/html": [
       "<div>\n",
       "<style scoped>\n",
       "    .dataframe tbody tr th:only-of-type {\n",
       "        vertical-align: middle;\n",
       "    }\n",
       "\n",
       "    .dataframe tbody tr th {\n",
       "        vertical-align: top;\n",
       "    }\n",
       "\n",
       "    .dataframe thead th {\n",
       "        text-align: right;\n",
       "    }\n",
       "</style>\n",
       "<table border=\"1\" class=\"dataframe\">\n",
       "  <thead>\n",
       "    <tr style=\"text-align: right;\">\n",
       "      <th></th>\n",
       "      <th>Airline</th>\n",
       "      <th>Source</th>\n",
       "      <th>Destination</th>\n",
       "      <th>Duration</th>\n",
       "      <th>Total_Stops</th>\n",
       "      <th>Additional_Info</th>\n",
       "      <th>Price</th>\n",
       "      <th>Month</th>\n",
       "      <th>Time_of_Day</th>\n",
       "    </tr>\n",
       "  </thead>\n",
       "  <tbody>\n",
       "    <tr>\n",
       "      <th>0</th>\n",
       "      <td>IndiGo</td>\n",
       "      <td>Banglore</td>\n",
       "      <td>New Delhi</td>\n",
       "      <td>0 days 02:50:00</td>\n",
       "      <td>0</td>\n",
       "      <td>No info</td>\n",
       "      <td>3897</td>\n",
       "      <td>3</td>\n",
       "      <td>Night</td>\n",
       "    </tr>\n",
       "    <tr>\n",
       "      <th>1</th>\n",
       "      <td>Air India</td>\n",
       "      <td>Kolkata</td>\n",
       "      <td>Banglore</td>\n",
       "      <td>0 days 07:25:00</td>\n",
       "      <td>2</td>\n",
       "      <td>No info</td>\n",
       "      <td>7662</td>\n",
       "      <td>5</td>\n",
       "      <td>Midnight</td>\n",
       "    </tr>\n",
       "    <tr>\n",
       "      <th>2</th>\n",
       "      <td>Jet Airways</td>\n",
       "      <td>Delhi</td>\n",
       "      <td>Cochin</td>\n",
       "      <td>0 days 19:00:00</td>\n",
       "      <td>2</td>\n",
       "      <td>No info</td>\n",
       "      <td>13882</td>\n",
       "      <td>6</td>\n",
       "      <td>Morning</td>\n",
       "    </tr>\n",
       "    <tr>\n",
       "      <th>3</th>\n",
       "      <td>IndiGo</td>\n",
       "      <td>Kolkata</td>\n",
       "      <td>Banglore</td>\n",
       "      <td>0 days 05:25:00</td>\n",
       "      <td>1</td>\n",
       "      <td>No info</td>\n",
       "      <td>6218</td>\n",
       "      <td>5</td>\n",
       "      <td>Evening</td>\n",
       "    </tr>\n",
       "    <tr>\n",
       "      <th>4</th>\n",
       "      <td>IndiGo</td>\n",
       "      <td>Banglore</td>\n",
       "      <td>New Delhi</td>\n",
       "      <td>0 days 04:45:00</td>\n",
       "      <td>1</td>\n",
       "      <td>No info</td>\n",
       "      <td>13302</td>\n",
       "      <td>3</td>\n",
       "      <td>Afternoon</td>\n",
       "    </tr>\n",
       "    <tr>\n",
       "      <th>...</th>\n",
       "      <td>...</td>\n",
       "      <td>...</td>\n",
       "      <td>...</td>\n",
       "      <td>...</td>\n",
       "      <td>...</td>\n",
       "      <td>...</td>\n",
       "      <td>...</td>\n",
       "      <td>...</td>\n",
       "      <td>...</td>\n",
       "    </tr>\n",
       "    <tr>\n",
       "      <th>10667</th>\n",
       "      <td>Jet Airways</td>\n",
       "      <td>Banglore</td>\n",
       "      <td>New Delhi</td>\n",
       "      <td>0 days 21:25:00</td>\n",
       "      <td>1</td>\n",
       "      <td>In-flight meal not included</td>\n",
       "      <td>11087</td>\n",
       "      <td>3</td>\n",
       "      <td>Night</td>\n",
       "    </tr>\n",
       "    <tr>\n",
       "      <th>10670</th>\n",
       "      <td>Air India</td>\n",
       "      <td>Kolkata</td>\n",
       "      <td>Banglore</td>\n",
       "      <td>0 days 17:25:00</td>\n",
       "      <td>2</td>\n",
       "      <td>No info</td>\n",
       "      <td>11411</td>\n",
       "      <td>5</td>\n",
       "      <td>Midnight</td>\n",
       "    </tr>\n",
       "    <tr>\n",
       "      <th>10674</th>\n",
       "      <td>Jet Airways</td>\n",
       "      <td>Banglore</td>\n",
       "      <td>New Delhi</td>\n",
       "      <td>1 days 00:45:00</td>\n",
       "      <td>1</td>\n",
       "      <td>In-flight meal not included</td>\n",
       "      <td>11087</td>\n",
       "      <td>3</td>\n",
       "      <td>Evening</td>\n",
       "    </tr>\n",
       "    <tr>\n",
       "      <th>10681</th>\n",
       "      <td>Vistara</td>\n",
       "      <td>Banglore</td>\n",
       "      <td>New Delhi</td>\n",
       "      <td>0 days 02:40:00</td>\n",
       "      <td>0</td>\n",
       "      <td>No info</td>\n",
       "      <td>12648</td>\n",
       "      <td>3</td>\n",
       "      <td>Morning</td>\n",
       "    </tr>\n",
       "    <tr>\n",
       "      <th>10682</th>\n",
       "      <td>Air India</td>\n",
       "      <td>Delhi</td>\n",
       "      <td>Cochin</td>\n",
       "      <td>0 days 08:20:00</td>\n",
       "      <td>2</td>\n",
       "      <td>No info</td>\n",
       "      <td>11753</td>\n",
       "      <td>5</td>\n",
       "      <td>Morning</td>\n",
       "    </tr>\n",
       "  </tbody>\n",
       "</table>\n",
       "<p>5989 rows × 9 columns</p>\n",
       "</div>"
      ],
      "text/plain": [
       "           Airline    Source Destination        Duration  Total_Stops  \\\n",
       "0           IndiGo  Banglore   New Delhi 0 days 02:50:00            0   \n",
       "1        Air India   Kolkata    Banglore 0 days 07:25:00            2   \n",
       "2      Jet Airways     Delhi      Cochin 0 days 19:00:00            2   \n",
       "3           IndiGo   Kolkata    Banglore 0 days 05:25:00            1   \n",
       "4           IndiGo  Banglore   New Delhi 0 days 04:45:00            1   \n",
       "...            ...       ...         ...             ...          ...   \n",
       "10667  Jet Airways  Banglore   New Delhi 0 days 21:25:00            1   \n",
       "10670    Air India   Kolkata    Banglore 0 days 17:25:00            2   \n",
       "10674  Jet Airways  Banglore   New Delhi 1 days 00:45:00            1   \n",
       "10681      Vistara  Banglore   New Delhi 0 days 02:40:00            0   \n",
       "10682    Air India     Delhi      Cochin 0 days 08:20:00            2   \n",
       "\n",
       "                   Additional_Info  Price  Month Time_of_Day  \n",
       "0                          No info   3897      3       Night  \n",
       "1                          No info   7662      5    Midnight  \n",
       "2                          No info  13882      6     Morning  \n",
       "3                          No info   6218      5     Evening  \n",
       "4                          No info  13302      3   Afternoon  \n",
       "...                            ...    ...    ...         ...  \n",
       "10667  In-flight meal not included  11087      3       Night  \n",
       "10670                      No info  11411      5    Midnight  \n",
       "10674  In-flight meal not included  11087      3     Evening  \n",
       "10681                      No info  12648      3     Morning  \n",
       "10682                      No info  11753      5     Morning  \n",
       "\n",
       "[5989 rows x 9 columns]"
      ]
     },
     "execution_count": 482,
     "metadata": {},
     "output_type": "execute_result"
    }
   ],
   "source": [
    "df"
   ]
  },
  {
   "cell_type": "markdown",
   "id": "a1cbc46d-315c-4700-93cb-c92c5024cbb9",
   "metadata": {},
   "source": [
    "## Univariate"
   ]
  },
  {
   "cell_type": "code",
   "execution_count": null,
   "id": "88aa4d9b",
   "metadata": {},
   "outputs": [],
   "source": []
  },
  {
   "cell_type": "code",
   "execution_count": 483,
   "id": "ea49da11",
   "metadata": {
    "execution": {
     "iopub.execute_input": "2024-12-22T23:15:39.132294Z",
     "iopub.status.busy": "2024-12-22T23:15:39.132022Z",
     "iopub.status.idle": "2024-12-22T23:15:39.595080Z",
     "shell.execute_reply": "2024-12-22T23:15:39.594112Z",
     "shell.execute_reply.started": "2024-12-22T23:15:39.132270Z"
    }
   },
   "outputs": [
    {
     "data": {
      "image/png": "[encoded data removed]",
      "text/plain": [
       "<Figure size 800x500 with 1 Axes>"
      ]
     },
     "metadata": {},
     "output_type": "display_data"
    }
   ],
   "source": [
    "# 1. Histogram for Price\n",
    "plt.figure(figsize=(8, 5))\n",
    "sns.histplot(df['Price'], bins=30, kde=True, color='blue')\n",
    "plt.title('Distribution of Ticket Prices')\n",
    "plt.xlabel('Price')\n",
    "plt.ylabel('Frequency')\n",
    "plt.show()"
   ]
  },
  {
   "cell_type": "code",
   "execution_count": 484,
   "id": "fe8e44cc-6ef8-4523-8202-fba217ea27e1",
   "metadata": {
    "execution": {
     "iopub.execute_input": "2024-12-22T23:15:39.596181Z",
     "iopub.status.busy": "2024-12-22T23:15:39.595929Z",
     "iopub.status.idle": "2024-12-22T23:15:39.910187Z",
     "shell.execute_reply": "2024-12-22T23:15:39.909138Z",
     "shell.execute_reply.started": "2024-12-22T23:15:39.596160Z"
    }
   },
   "outputs": [
    {
     "data": {
      "image/png": "[encoded data removed]",
      "text/plain": [
       "<Figure size 1000x600 with 1 Axes>"
      ]
     },
     "metadata": {},
     "output_type": "display_data"
    }
   ],
   "source": [
    "# 2. Bar chart for Airlines\n",
    "plt.figure(figsize=(10, 6))\n",
    "sns.countplot(y='Airline', data=df, order=df['Airline'].value_counts().index, palette='Blues')\n",
    "plt.title('Count of Flights by Airline')\n",
    "plt.xlabel('Count')\n",
    "plt.ylabel('Airline')\n",
    "plt.show()"
   ]
  },
  {
   "cell_type": "code",
   "execution_count": 485,
   "id": "65e62713-fd96-462a-836c-8d3372ce14c6",
   "metadata": {
    "execution": {
     "iopub.execute_input": "2024-12-22T23:15:41.369413Z",
     "iopub.status.busy": "2024-12-22T23:15:41.369042Z",
     "iopub.status.idle": "2024-12-22T23:15:41.374385Z",
     "shell.execute_reply": "2024-12-22T23:15:41.373545Z",
     "shell.execute_reply.started": "2024-12-22T23:15:41.369376Z"
    }
   },
   "outputs": [],
   "source": [
    "def plot(df,col):\n",
    "    fig,(ax1,ax2)=plt.subplots(1,2)\n",
    "    sns.distplot(df[col],ax=ax1)\n",
    "    sns.boxplot(df[col],ax=ax2)\n",
    "    plt.tight_layout()"
   ]
  },
  {
   "cell_type": "code",
   "execution_count": 486,
   "id": "ed4e255d-d10a-4388-bf9a-c870a5d5c8d0",
   "metadata": {
    "execution": {
     "iopub.execute_input": "2024-12-22T23:15:41.375653Z",
     "iopub.status.busy": "2024-12-22T23:15:41.375280Z",
     "iopub.status.idle": "2024-12-22T23:15:41.962727Z",
     "shell.execute_reply": "2024-12-22T23:15:41.961485Z",
     "shell.execute_reply.started": "2024-12-22T23:15:41.375626Z"
    }
   },
   "outputs": [
    {
     "name": "stderr",
     "output_type": "stream",
     "text": [
      "C:\\Users\\ACTIVE\\AppData\\Local\\Temp\\ipykernel_8108\\1936147846.py:3: UserWarning: \n",
      "\n",
      "`distplot` is a deprecated function and will be removed in seaborn v0.14.0.\n",
      "\n",
      "Please adapt your code to use either `displot` (a figure-level function with\n",
      "similar flexibility) or `histplot` (an axes-level function for histograms).\n",
      "\n",
      "For a guide to updating your code to use the new functions, please see\n",
      "https://gist.github.com/mwaskom/de44147ed2974457ad6372750bbe5751\n",
      "\n",
      "  sns.distplot(df[col],ax=ax1)\n"
     ]
    },
    {
     "data": {
      "image/png": "[encoded data removed]",
      "text/plain": [
       "<Figure size 640x480 with 2 Axes>"
      ]
     },
     "metadata": {},
     "output_type": "display_data"
    }
   ],
   "source": [
    "plot(df,'Price')"
   ]
  },
  {
   "cell_type": "code",
   "execution_count": 487,
   "id": "3290ad66-ee3b-49ea-bee0-2c8a77c3fd51",
   "metadata": {
    "execution": {
     "iopub.execute_input": "2024-12-22T23:15:41.964103Z",
     "iopub.status.busy": "2024-12-22T23:15:41.963832Z",
     "iopub.status.idle": "2024-12-22T23:15:41.970815Z",
     "shell.execute_reply": "2024-12-22T23:15:41.969855Z",
     "shell.execute_reply.started": "2024-12-22T23:15:41.964080Z"
    }
   },
   "outputs": [],
   "source": [
    "df['Price']=np.where(df['Price']>=40000,df['Price'].median(),df['Price'])"
   ]
  },
  {
   "cell_type": "code",
   "execution_count": 488,
   "id": "5ae891bb-747e-4c05-9206-f9691fcda6cf",
   "metadata": {
    "execution": {
     "iopub.execute_input": "2024-12-22T23:15:41.972341Z",
     "iopub.status.busy": "2024-12-22T23:15:41.972002Z",
     "iopub.status.idle": "2024-12-22T23:15:42.650828Z",
     "shell.execute_reply": "2024-12-22T23:15:42.649730Z",
     "shell.execute_reply.started": "2024-12-22T23:15:41.972299Z"
    }
   },
   "outputs": [
    {
     "name": "stderr",
     "output_type": "stream",
     "text": [
      "C:\\Users\\ACTIVE\\AppData\\Local\\Temp\\ipykernel_8108\\1936147846.py:3: UserWarning: \n",
      "\n",
      "`distplot` is a deprecated function and will be removed in seaborn v0.14.0.\n",
      "\n",
      "Please adapt your code to use either `displot` (a figure-level function with\n",
      "similar flexibility) or `histplot` (an axes-level function for histograms).\n",
      "\n",
      "For a guide to updating your code to use the new functions, please see\n",
      "https://gist.github.com/mwaskom/de44147ed2974457ad6372750bbe5751\n",
      "\n",
      "  sns.distplot(df[col],ax=ax1)\n"
     ]
    },
    {
     "data": {
      "image/png": "[encoded data removed]",
      "text/plain": [
       "<Figure size 640x480 with 2 Axes>"
      ]
     },
     "metadata": {},
     "output_type": "display_data"
    }
   ],
   "source": [
    "plot(df,'Price')"
   ]
  },
  {
   "cell_type": "code",
   "execution_count": 489,
   "id": "f1e8d2e5-9a77-4c52-acd0-7151dc4dc52a",
   "metadata": {
    "execution": {
     "iopub.execute_input": "2024-12-22T23:15:42.652076Z",
     "iopub.status.busy": "2024-12-22T23:15:42.651768Z",
     "iopub.status.idle": "2024-12-22T23:15:42.937719Z",
     "shell.execute_reply": "2024-12-22T23:15:42.936501Z",
     "shell.execute_reply.started": "2024-12-22T23:15:42.652052Z"
    }
   },
   "outputs": [
    {
     "data": {
      "image/png": "[encoded data removed]",
      "text/plain": [
       "<Figure size 1200x500 with 1 Axes>"
      ]
     },
     "metadata": {},
     "output_type": "display_data"
    }
   ],
   "source": [
    "# 2. Bar Chart for Source and Destination\n",
    "plt.figure(figsize=(12, 5))\n",
    "sns.countplot(data=df, x='Source', palette='Set2', order=df['Source'].value_counts().index)\n",
    "plt.title('Count of Flights from Each Source')\n",
    "plt.xlabel('Source')\n",
    "plt.ylabel('Count')\n",
    "plt.tight_layout()\n",
    "plt.show()"
   ]
  },
  {
   "cell_type": "code",
   "execution_count": 490,
   "id": "f970bce5-d0b8-4f60-be85-02ece9f8d10c",
   "metadata": {
    "execution": {
     "iopub.execute_input": "2024-12-22T23:15:42.939074Z",
     "iopub.status.busy": "2024-12-22T23:15:42.938763Z",
     "iopub.status.idle": "2024-12-22T23:15:43.234414Z",
     "shell.execute_reply": "2024-12-22T23:15:43.233311Z",
     "shell.execute_reply.started": "2024-12-22T23:15:42.939045Z"
    }
   },
   "outputs": [
    {
     "data": {
      "image/png": "[encoded data removed]",
      "text/plain": [
       "<Figure size 1200x500 with 1 Axes>"
      ]
     },
     "metadata": {},
     "output_type": "display_data"
    }
   ],
   "source": [
    "# 2. Bar Chart for Source and Destination\n",
    "plt.figure(figsize=(12, 5))\n",
    "sns.countplot(data=df, x='Destination', palette='Set2', order=df['Destination'].value_counts().index)\n",
    "plt.title('Count of Flights from Each Destination')\n",
    "plt.xlabel('Destination')\n",
    "plt.ylabel('Count')\n",
    "plt.tight_layout()\n",
    "plt.show()"
   ]
  },
  {
   "cell_type": "code",
   "execution_count": 491,
   "id": "77c01ea3-0a0f-411f-bf26-02148f110236",
   "metadata": {
    "execution": {
     "iopub.execute_input": "2024-12-22T23:27:42.736683Z",
     "iopub.status.busy": "2024-12-22T23:27:42.736347Z",
     "iopub.status.idle": "2024-12-22T23:27:42.935061Z",
     "shell.execute_reply": "2024-12-22T23:27:42.934074Z",
     "shell.execute_reply.started": "2024-12-22T23:27:42.736652Z"
    }
   },
   "outputs": [
    {
     "data": {
      "image/png": "[encoded data removed]",
      "text/plain": [
       "<Figure size 1200x500 with 1 Axes>"
      ]
     },
     "metadata": {},
     "output_type": "display_data"
    }
   ],
   "source": [
    "# 2. Bar Chart for Source and Destination\n",
    "plt.figure(figsize=(12, 5))\n",
    "sns.countplot(data=df, x='Total_Stops', palette='Set2', order=df['Total_Stops'].value_counts().index)\n",
    "plt.title('Count of Flights from Each Total_Stops')\n",
    "plt.xlabel('Total_Stops')\n",
    "plt.ylabel('Count')\n",
    "plt.tight_layout()\n",
    "plt.show()"
   ]
  },
  {
   "cell_type": "markdown",
   "id": "7852cd93-bb74-4f3c-b4d0-e0b7fab41414",
   "metadata": {},
   "source": [
    "## Bivariate"
   ]
  },
  {
   "cell_type": "code",
   "execution_count": 492,
   "id": "3aabc8e9-ea95-4617-850d-d7f6c31335c5",
   "metadata": {
    "execution": {
     "iopub.execute_input": "2024-12-22T23:21:12.668617Z",
     "iopub.status.busy": "2024-12-22T23:21:12.668308Z",
     "iopub.status.idle": "2024-12-22T23:21:12.869088Z",
     "shell.execute_reply": "2024-12-22T23:21:12.867918Z",
     "shell.execute_reply.started": "2024-12-22T23:21:12.668593Z"
    }
   },
   "outputs": [
    {
     "data": {
      "image/png": "[encoded data removed]",
      "text/plain": [
       "<Figure size 1000x600 with 1 Axes>"
      ]
     },
     "metadata": {},
     "output_type": "display_data"
    }
   ],
   "source": [
    "# Bivariate Analysis: Bar Chart for Month vs Average Price\n",
    "plt.figure(figsize=(10, 6))\n",
    "average_price_by_month = df.groupby('Month')['Price'].mean()  # Calculate average price per month\n",
    "average_price_by_month.plot(kind='bar', color='seagreen', edgecolor='black')  # Create a bar chart\n",
    "\n",
    "plt.title('Average Ticket Price by Month', fontsize=14, fontweight='bold')  # Enhanced title styling\n",
    "plt.xlabel('Month of Journey', fontsize=12)  # Label for x-axis\n",
    "plt.ylabel('Average Price', fontsize=12)  # Label for y-axis\n",
    "plt.xticks(rotation=0, fontsize=10)  # Keep x-axis labels horizontal\n",
    "plt.tight_layout()  # Ensure proper spacing\n",
    "plt.show()\n"
   ]
  },
  {
   "cell_type": "markdown",
   "id": "7c3fedd2-b6aa-47b9-b3bb-368fcbcf1bef",
   "metadata": {},
   "source": [
    "## Multivariate"
   ]
  },
  {
   "cell_type": "code",
   "execution_count": 493,
   "id": "3b3daea8-7248-4bd0-9a23-088638c13b4e",
   "metadata": {
    "execution": {
     "iopub.execute_input": "2024-12-22T23:15:39.911781Z",
     "iopub.status.busy": "2024-12-22T23:15:39.911381Z",
     "iopub.status.idle": "2024-12-22T23:15:40.745279Z",
     "shell.execute_reply": "2024-12-22T23:15:40.744263Z",
     "shell.execute_reply.started": "2024-12-22T23:15:39.911743Z"
    }
   },
   "outputs": [
    {
     "data": {
      "image/png": "[encoded data removed]",
      "text/plain": [
       "<Figure size 800x500 with 1 Axes>"
      ]
     },
     "metadata": {},
     "output_type": "display_data"
    }
   ],
   "source": [
    "# 3. Scatter plot for Price vs Duration\n",
    "durationHours =  df['Duration'].dt.total_seconds() / 3600\n",
    "plt.figure(figsize=(8, 5))\n",
    "sns.scatterplot(x=durationHours, y='Price', data=df, hue='Airline', palette='tab10')\n",
    "plt.title('Price vs Duration (Hours)')\n",
    "plt.xlabel('Duration (Hours)')\n",
    "plt.ylabel('Price')\n",
    "plt.legend(bbox_to_anchor=(1.05, 1), loc='upper left')\n",
    "plt.show()\n"
   ]
  },
  {
   "cell_type": "code",
   "execution_count": null,
   "id": "377af97a",
   "metadata": {},
   "outputs": [],
   "source": []
  },
  {
   "cell_type": "code",
   "execution_count": 494,
   "id": "fba1fc18-f7c3-4102-946e-fb251053644a",
   "metadata": {
    "execution": {
     "iopub.execute_input": "2024-12-22T23:15:41.028995Z",
     "iopub.status.busy": "2024-12-22T23:15:41.028597Z",
     "iopub.status.idle": "2024-12-22T23:15:41.367912Z",
     "shell.execute_reply": "2024-12-22T23:15:41.366823Z",
     "shell.execute_reply.started": "2024-12-22T23:15:41.028959Z"
    }
   },
   "outputs": [
    {
     "data": {
      "image/png": "[encoded data removed]",
      "text/plain": [
       "<Figure size 1000x600 with 2 Axes>"
      ]
     },
     "metadata": {},
     "output_type": "display_data"
    }
   ],
   "source": [
    "# Multivariate Analysis\n",
    "# 5. Heatmap of Correlation between Numerical Features\n",
    "plt.figure(figsize=(10, 6))\n",
    "sns.heatmap(df[['Price', 'Total_Stops', 'Duration']].corr(), annot=True, cmap='Blues')\n",
    "plt.title('Heatmap of Correlation')\n",
    "plt.show()"
   ]
  },
  {
   "cell_type": "code",
   "execution_count": 495,
   "id": "e27c4c92-4b35-48ed-b2a6-37e508aa4d22",
   "metadata": {
    "execution": {
     "iopub.execute_input": "2024-12-22T23:24:23.301789Z",
     "iopub.status.busy": "2024-12-22T23:24:23.301409Z",
     "iopub.status.idle": "2024-12-22T23:24:23.778831Z",
     "shell.execute_reply": "2024-12-22T23:24:23.777775Z",
     "shell.execute_reply.started": "2024-12-22T23:24:23.301754Z"
    }
   },
   "outputs": [
    {
     "data": {
      "image/png": "[encoded data removed]",
      "text/plain": [
       "<Figure size 1400x600 with 1 Axes>"
      ]
     },
     "metadata": {},
     "output_type": "display_data"
    }
   ],
   "source": [
    "# 6. Grouped Bar Chart for Airline vs Price by Total Stops\n",
    "plt.figure(figsize=(14, 6))\n",
    "sns.barplot(x='Airline', y='Price', hue='Total_Stops', data=df, errorbar=None, palette='tab20')\n",
    "plt.title('Average Price by Airline and Total Stops')\n",
    "plt.xlabel('Airline')\n",
    "plt.ylabel('Average Price')\n",
    "plt.xticks(rotation=45)\n",
    "plt.legend(title='Total Stops')\n",
    "plt.tight_layout()\n",
    "plt.show()"
   ]
  },
  {
   "cell_type": "markdown",
   "id": "63bd9b25",
   "metadata": {},
   "source": [
    "## pre-processing"
   ]
  },
  {
   "cell_type": "code",
   "execution_count": 496,
   "id": "57b67246",
   "metadata": {},
   "outputs": [],
   "source": [
    "x = df.drop(\"Price\" , axis = 1 )\n",
    "y = df[\"Price\"]"
   ]
  },
  {
   "cell_type": "code",
   "execution_count": 497,
   "id": "75fe71f5",
   "metadata": {},
   "outputs": [
    {
     "name": "stdout",
     "output_type": "stream",
     "text": [
      "<class 'pandas.core.frame.DataFrame'>\n",
      "Index: 5989 entries, 0 to 10682\n",
      "Data columns (total 3 columns):\n",
      " #   Column       Non-Null Count  Dtype          \n",
      "---  ------       --------------  -----          \n",
      " 0   Duration     5989 non-null   timedelta64[ns]\n",
      " 1   Total_Stops  5989 non-null   int32          \n",
      " 2   Month        5989 non-null   int32          \n",
      "dtypes: int32(2), timedelta64[ns](1)\n",
      "memory usage: 269.4 KB\n",
      "<class 'pandas.core.frame.DataFrame'>\n",
      "Index: 5989 entries, 0 to 10682\n",
      "Data columns (total 5 columns):\n",
      " #   Column           Non-Null Count  Dtype \n",
      "---  ------           --------------  ----- \n",
      " 0   Airline          5989 non-null   object\n",
      " 1   Source           5989 non-null   object\n",
      " 2   Destination      5989 non-null   object\n",
      " 3   Additional_Info  5989 non-null   object\n",
      " 4   Time_of_Day      5989 non-null   object\n",
      "dtypes: object(5)\n",
      "memory usage: 409.8+ KB\n"
     ]
    },
    {
     "data": {
      "text/plain": [
       "(None, None)"
      ]
     },
     "execution_count": 497,
     "metadata": {},
     "output_type": "execute_result"
    }
   ],
   "source": [
    "numCols = x.select_dtypes(include=\"number\")\n",
    "catCols = x.select_dtypes(include=\"object\")\n",
    "numCols.info(), catCols.info()"
   ]
  },
  {
   "cell_type": "code",
   "execution_count": null,
   "id": "8e6ea3de",
   "metadata": {},
   "outputs": [],
   "source": []
  }
 ],
 "metadata": {
  "kaggle": {
   "accelerator": "none",
   "dataSources": [
    {
     "datasetId": 6356470,
     "sourceId": 10273176,
     "sourceType": "datasetVersion"
    }
   ],
   "dockerImageVersionId": 30822,
   "isGpuEnabled": false,
   "isInternetEnabled": false,
   "language": "python",
   "sourceType": "notebook"
  },
  "kernelspec": {
   "display_name": "Python 3 (ipykernel)",
   "language": "python",
   "name": "python3"
  },
  "language_info": {
   "codemirror_mode": {
    "name": "ipython",
    "version": 3
   },
   "file_extension": ".py",
   "mimetype": "text/x-python",
   "name": "python",
   "nbconvert_exporter": "python",
   "pygments_lexer": "ipython3",
   "version": "3.11.5"
  }
 },
 "nbformat": 4,
 "nbformat_minor": 5
}
